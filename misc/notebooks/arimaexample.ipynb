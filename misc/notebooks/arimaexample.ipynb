{
 "cells": [
  {
   "cell_type": "code",
   "execution_count": 1,
   "metadata": {},
   "outputs": [
    {
     "name": "stderr",
     "output_type": "stream",
     "text": [
      "<ipython-input-1-5b489f4d910b>:2: FutureWarning: The pandas.datetime class is deprecated and will be removed from pandas in a future version. Import from datetime module instead.\n",
      "  from pandas import datetime\n"
     ]
    }
   ],
   "source": [
    "import pandas as pd\n",
    "from pandas import datetime\n",
    "import matplotlib.pyplot as plt"
   ]
  },
  {
   "cell_type": "code",
   "execution_count": 2,
   "metadata": {},
   "outputs": [],
   "source": [
    "def parser(x):\n",
    "    return datetime.strptime(x, \"%Y-%m\")\n",
    "\n",
    "sales = pd.read_csv(\"../sales-cars.csv\", index_col=0, parse_dates=[0], date_parser=parser)"
   ]
  },
  {
   "cell_type": "code",
   "execution_count": 3,
   "metadata": {},
   "outputs": [
    {
     "data": {
      "text/html": [
       "<div>\n",
       "<style scoped>\n",
       "    .dataframe tbody tr th:only-of-type {\n",
       "        vertical-align: middle;\n",
       "    }\n",
       "\n",
       "    .dataframe tbody tr th {\n",
       "        vertical-align: top;\n",
       "    }\n",
       "\n",
       "    .dataframe thead th {\n",
       "        text-align: right;\n",
       "    }\n",
       "</style>\n",
       "<table border=\"1\" class=\"dataframe\">\n",
       "  <thead>\n",
       "    <tr style=\"text-align: right;\">\n",
       "      <th></th>\n",
       "      <th>Sales</th>\n",
       "    </tr>\n",
       "    <tr>\n",
       "      <th>Month</th>\n",
       "      <th></th>\n",
       "    </tr>\n",
       "  </thead>\n",
       "  <tbody>\n",
       "    <tr>\n",
       "      <th>2016-01-01</th>\n",
       "      <td>266</td>\n",
       "    </tr>\n",
       "    <tr>\n",
       "      <th>2016-02-01</th>\n",
       "      <td>146</td>\n",
       "    </tr>\n",
       "    <tr>\n",
       "      <th>2016-03-01</th>\n",
       "      <td>183</td>\n",
       "    </tr>\n",
       "    <tr>\n",
       "      <th>2016-04-01</th>\n",
       "      <td>119</td>\n",
       "    </tr>\n",
       "    <tr>\n",
       "      <th>2016-05-01</th>\n",
       "      <td>180</td>\n",
       "    </tr>\n",
       "  </tbody>\n",
       "</table>\n",
       "</div>"
      ],
      "text/plain": [
       "            Sales\n",
       "Month            \n",
       "2016-01-01    266\n",
       "2016-02-01    146\n",
       "2016-03-01    183\n",
       "2016-04-01    119\n",
       "2016-05-01    180"
      ]
     },
     "execution_count": 3,
     "metadata": {},
     "output_type": "execute_result"
    }
   ],
   "source": [
    "sales.head()\n"
   ]
  },
  {
   "cell_type": "code",
   "execution_count": 4,
   "metadata": {},
   "outputs": [
    {
     "data": {
      "text/plain": [
       "<AxesSubplot:xlabel='Month'>"
      ]
     },
     "execution_count": 4,
     "metadata": {},
     "output_type": "execute_result"
    },
    {
     "data": {
      "image/png": "[encoded data removed]",
      "text/plain": [
       "<Figure size 432x288 with 1 Axes>"
      ]
     },
     "metadata": {
      "needs_background": "light"
     },
     "output_type": "display_data"
    }
   ],
   "source": [
    "sales.plot()"
   ]
  },
  {
   "cell_type": "code",
   "execution_count": 5,
   "metadata": {},
   "outputs": [],
   "source": [
    "## Stationarity\n",
    "# means mean, variance and covariance is constant over periods. \n"
   ]
  },
  {
   "cell_type": "code",
   "execution_count": 6,
   "metadata": {},
   "outputs": [
    {
     "data": {
      "text/html": [
       "<div>\n",
       "<style scoped>\n",
       "    .dataframe tbody tr th:only-of-type {\n",
       "        vertical-align: middle;\n",
       "    }\n",
       "\n",
       "    .dataframe tbody tr th {\n",
       "        vertical-align: top;\n",
       "    }\n",
       "\n",
       "    .dataframe thead th {\n",
       "        text-align: right;\n",
       "    }\n",
       "</style>\n",
       "<table border=\"1\" class=\"dataframe\">\n",
       "  <thead>\n",
       "    <tr style=\"text-align: right;\">\n",
       "      <th></th>\n",
       "      <th>Sales</th>\n",
       "    </tr>\n",
       "    <tr>\n",
       "      <th>Month</th>\n",
       "      <th></th>\n",
       "    </tr>\n",
       "  </thead>\n",
       "  <tbody>\n",
       "    <tr>\n",
       "      <th>2016-02-01</th>\n",
       "      <td>-120.0</td>\n",
       "    </tr>\n",
       "    <tr>\n",
       "      <th>2016-03-01</th>\n",
       "      <td>37.0</td>\n",
       "    </tr>\n",
       "    <tr>\n",
       "      <th>2016-04-01</th>\n",
       "      <td>-64.0</td>\n",
       "    </tr>\n",
       "    <tr>\n",
       "      <th>2016-05-01</th>\n",
       "      <td>61.0</td>\n",
       "    </tr>\n",
       "    <tr>\n",
       "      <th>2016-06-01</th>\n",
       "      <td>-11.0</td>\n",
       "    </tr>\n",
       "  </tbody>\n",
       "</table>\n",
       "</div>"
      ],
      "text/plain": [
       "            Sales\n",
       "Month            \n",
       "2016-02-01 -120.0\n",
       "2016-03-01   37.0\n",
       "2016-04-01  -64.0\n",
       "2016-05-01   61.0\n",
       "2016-06-01  -11.0"
      ]
     },
     "execution_count": 6,
     "metadata": {},
     "output_type": "execute_result"
    }
   ],
   "source": [
    "sales_diff = sales.diff(periods=1)\n",
    "sales_diff = sales_diff[1:]\n",
    "sales_diff.head()"
   ]
  },
  {
   "cell_type": "code",
   "execution_count": 7,
   "metadata": {},
   "outputs": [],
   "source": [
    "from statsmodels.graphics.tsaplots import plot_acf"
   ]
  },
  {
   "cell_type": "code",
   "execution_count": 8,
   "metadata": {},
   "outputs": [
    {
     "data": {
      "image/png": "[encoded data removed]",
      "text/plain": [
       "<Figure size 432x288 with 1 Axes>"
      ]
     },
     "execution_count": 8,
     "metadata": {},
     "output_type": "execute_result"
    },
    {
     "data": {
      "image/png": "[encoded data removed]",
      "text/plain": [
       "<Figure size 432x288 with 1 Axes>"
      ]
     },
     "metadata": {
      "needs_background": "light"
     },
     "output_type": "display_data"
    }
   ],
   "source": [
    "plot_acf(sales)"
   ]
  },
  {
   "cell_type": "code",
   "execution_count": 9,
   "metadata": {},
   "outputs": [
    {
     "data": {
      "image/png": "[encoded data removed]",
      "text/plain": [
       "<Figure size 432x288 with 1 Axes>"
      ]
     },
     "execution_count": 9,
     "metadata": {},
     "output_type": "execute_result"
    },
    {
     "data": {
      "image/png": "[encoded data removed]",
      "text/plain": [
       "<Figure size 432x288 with 1 Axes>"
      ]
     },
     "metadata": {
      "needs_background": "light"
     },
     "output_type": "display_data"
    }
   ],
   "source": [
    "plot_acf(sales_diff)"
   ]
  },
  {
   "cell_type": "code",
   "execution_count": 10,
   "metadata": {},
   "outputs": [
    {
     "data": {
      "text/plain": [
       "<AxesSubplot:xlabel='Month'>"
      ]
     },
     "execution_count": 10,
     "metadata": {},
     "output_type": "execute_result"
    },
    {
     "data": {
      "image/png": "[encoded data removed]",
      "text/plain": [
       "<Figure size 432x288 with 1 Axes>"
      ]
     },
     "metadata": {
      "needs_background": "light"
     },
     "output_type": "display_data"
    }
   ],
   "source": [
    "sales_diff.plot()"
   ]
  },
  {
   "cell_type": "code",
   "execution_count": 11,
   "metadata": {},
   "outputs": [],
   "source": [
    "from statsmodels.tsa.ar_model import AR\n",
    "from sklearn.metrics import mean_squared_error"
   ]
  },
  {
   "cell_type": "code",
   "execution_count": 12,
   "metadata": {},
   "outputs": [],
   "source": [
    "X = sales.values\n",
    "train = X[0:27]\n",
    "test = X[26:]\n",
    "predictions = []"
   ]
  },
  {
   "cell_type": "code",
   "execution_count": 13,
   "metadata": {},
   "outputs": [
    {
     "name": "stderr",
     "output_type": "stream",
     "text": [
      "/Users/aslak/Library/Caches/pypoetry/virtualenvs/ideal-pancake-LPxB82nx-py3.8/lib/python3.8/site-packages/statsmodels/tsa/ar_model.py:791: FutureWarning: \n",
      "statsmodels.tsa.AR has been deprecated in favor of statsmodels.tsa.AutoReg and\n",
      "statsmodels.tsa.SARIMAX.\n",
      "\n",
      "AutoReg adds the ability to specify exogenous variables, include time trends,\n",
      "and add seasonal dummies. The AutoReg API differs from AR since the model is\n",
      "treated as immutable, and so the entire specification including the lag\n",
      "length must be specified when creating the model. This change is too\n",
      "substantial to incorporate into the existing AR api. The function\n",
      "ar_select_order performs lag length selection for AutoReg models.\n",
      "\n",
      "AutoReg only estimates parameters using conditional MLE (OLS). Use SARIMAX to\n",
      "estimate ARX and related models using full MLE via the Kalman Filter.\n",
      "\n",
      "To silence this warning and continue using AR until it is removed, use:\n",
      "\n",
      "import warnings\n",
      "warnings.filterwarnings('ignore', 'statsmodels.tsa.ar_model.AR', FutureWarning)\n",
      "\n",
      "  warnings.warn(AR_DEPRECATION_WARN, FutureWarning)\n"
     ]
    }
   ],
   "source": [
    "model_ar = AR(train)\n",
    "model_ar_fit = model_ar.fit()"
   ]
  },
  {
   "cell_type": "code",
   "execution_count": null,
   "metadata": {},
   "outputs": [],
   "source": []
  },
  {
   "cell_type": "code",
   "execution_count": 14,
   "metadata": {},
   "outputs": [],
   "source": [
    "predictions = model_ar_fit.predict(start=27, end=36)"
   ]
  },
  {
   "cell_type": "code",
   "execution_count": 15,
   "metadata": {},
   "outputs": [
    {
     "data": {
      "text/plain": [
       "[<matplotlib.lines.Line2D at 0x120ead940>]"
      ]
     },
     "execution_count": 15,
     "metadata": {},
     "output_type": "execute_result"
    },
    {
     "data": {
      "image/png": "[encoded data removed]",
      "text/plain": [
       "<Figure size 432x288 with 1 Axes>"
      ]
     },
     "metadata": {
      "needs_background": "light"
     },
     "output_type": "display_data"
    }
   ],
   "source": [
    "\n",
    "plt.plot(test)\n",
    "plt.plot(predictions)"
   ]
  },
  {
   "cell_type": "code",
   "execution_count": null,
   "metadata": {},
   "outputs": [],
   "source": []
  },
  {
   "cell_type": "code",
   "execution_count": 16,
   "metadata": {},
   "outputs": [],
   "source": [
    "from statsmodels.tsa.arima.model import ARIMA"
   ]
  },
  {
   "cell_type": "code",
   "execution_count": 17,
   "metadata": {},
   "outputs": [
    {
     "name": "stdout",
     "output_type": "stream",
     "text": [
      "288.0652412789347\n"
     ]
    },
    {
     "name": "stderr",
     "output_type": "stream",
     "text": [
      "/Users/aslak/Library/Caches/pypoetry/virtualenvs/ideal-pancake-LPxB82nx-py3.8/lib/python3.8/site-packages/statsmodels/base/model.py:566: ConvergenceWarning: Maximum Likelihood optimization failed to converge. Check mle_retvals\n",
      "  warnings.warn(\"Maximum Likelihood optimization failed to \"\n"
     ]
    }
   ],
   "source": [
    "model_arima = ARIMA(train, order=(3, 2, 3))\n",
    "model_arima_fit = model_arima.fit()\n",
    "print(model_arima_fit.aic)\n"
   ]
  },
  {
   "cell_type": "code",
   "execution_count": 18,
   "metadata": {},
   "outputs": [
    {
     "name": "stdout",
     "output_type": "stream",
     "text": [
      "[381.42936187 334.6051144  420.44612543 391.74672874 408.24422961\n",
      " 375.34318822 414.38356054 426.14137866 444.74856812 424.28027574]\n"
     ]
    }
   ],
   "source": [
    "predictions = model_arima_fit.forecast(steps=10)\n",
    "print(predictions)"
   ]
  },
  {
   "cell_type": "code",
   "execution_count": 19,
   "metadata": {},
   "outputs": [
    {
     "data": {
      "text/plain": [
       "[<matplotlib.lines.Line2D at 0x123795820>]"
      ]
     },
     "execution_count": 19,
     "metadata": {},
     "output_type": "execute_result"
    },
    {
     "data": {
      "image/png": "[encoded data removed]",
      "text/plain": [
       "<Figure size 432x288 with 1 Axes>"
      ]
     },
     "metadata": {
      "needs_background": "light"
     },
     "output_type": "display_data"
    }
   ],
   "source": [
    "plt.plot(test)\n",
    "plt.plot(predictions)"
   ]
  },
  {
   "cell_type": "code",
   "execution_count": 20,
   "metadata": {},
   "outputs": [
    {
     "data": {
      "text/plain": [
       "[(0, 0, 0),\n",
       " (0, 0, 1),\n",
       " (0, 0, 2),\n",
       " (0, 0, 3),\n",
       " (0, 0, 4),\n",
       " (0, 1, 0),\n",
       " (0, 1, 1),\n",
       " (0, 1, 2),\n",
       " (0, 1, 3),\n",
       " (0, 1, 4),\n",
       " (0, 2, 0),\n",
       " (0, 2, 1),\n",
       " (0, 2, 2),\n",
       " (0, 2, 3),\n",
       " (0, 2, 4),\n",
       " (0, 3, 0),\n",
       " (0, 3, 1),\n",
       " (0, 3, 2),\n",
       " (0, 3, 3),\n",
       " (0, 3, 4),\n",
       " (0, 4, 0),\n",
       " (0, 4, 1),\n",
       " (0, 4, 2),\n",
       " (0, 4, 3),\n",
       " (0, 4, 4),\n",
       " (1, 0, 0),\n",
       " (1, 0, 1),\n",
       " (1, 0, 2),\n",
       " (1, 0, 3),\n",
       " (1, 0, 4),\n",
       " (1, 1, 0),\n",
       " (1, 1, 1),\n",
       " (1, 1, 2),\n",
       " (1, 1, 3),\n",
       " (1, 1, 4),\n",
       " (1, 2, 0),\n",
       " (1, 2, 1),\n",
       " (1, 2, 2),\n",
       " (1, 2, 3),\n",
       " (1, 2, 4),\n",
       " (1, 3, 0),\n",
       " (1, 3, 1),\n",
       " (1, 3, 2),\n",
       " (1, 3, 3),\n",
       " (1, 3, 4),\n",
       " (1, 4, 0),\n",
       " (1, 4, 1),\n",
       " (1, 4, 2),\n",
       " (1, 4, 3),\n",
       " (1, 4, 4),\n",
       " (2, 0, 0),\n",
       " (2, 0, 1),\n",
       " (2, 0, 2),\n",
       " (2, 0, 3),\n",
       " (2, 0, 4),\n",
       " (2, 1, 0),\n",
       " (2, 1, 1),\n",
       " (2, 1, 2),\n",
       " (2, 1, 3),\n",
       " (2, 1, 4),\n",
       " (2, 2, 0),\n",
       " (2, 2, 1),\n",
       " (2, 2, 2),\n",
       " (2, 2, 3),\n",
       " (2, 2, 4),\n",
       " (2, 3, 0),\n",
       " (2, 3, 1),\n",
       " (2, 3, 2),\n",
       " (2, 3, 3),\n",
       " (2, 3, 4),\n",
       " (2, 4, 0),\n",
       " (2, 4, 1),\n",
       " (2, 4, 2),\n",
       " (2, 4, 3),\n",
       " (2, 4, 4),\n",
       " (3, 0, 0),\n",
       " (3, 0, 1),\n",
       " (3, 0, 2),\n",
       " (3, 0, 3),\n",
       " (3, 0, 4),\n",
       " (3, 1, 0),\n",
       " (3, 1, 1),\n",
       " (3, 1, 2),\n",
       " (3, 1, 3),\n",
       " (3, 1, 4),\n",
       " (3, 2, 0),\n",
       " (3, 2, 1),\n",
       " (3, 2, 2),\n",
       " (3, 2, 3),\n",
       " (3, 2, 4),\n",
       " (3, 3, 0),\n",
       " (3, 3, 1),\n",
       " (3, 3, 2),\n",
       " (3, 3, 3),\n",
       " (3, 3, 4),\n",
       " (3, 4, 0),\n",
       " (3, 4, 1),\n",
       " (3, 4, 2),\n",
       " (3, 4, 3),\n",
       " (3, 4, 4),\n",
       " (4, 0, 0),\n",
       " (4, 0, 1),\n",
       " (4, 0, 2),\n",
       " (4, 0, 3),\n",
       " (4, 0, 4),\n",
       " (4, 1, 0),\n",
       " (4, 1, 1),\n",
       " (4, 1, 2),\n",
       " (4, 1, 3),\n",
       " (4, 1, 4),\n",
       " (4, 2, 0),\n",
       " (4, 2, 1),\n",
       " (4, 2, 2),\n",
       " (4, 2, 3),\n",
       " (4, 2, 4),\n",
       " (4, 3, 0),\n",
       " (4, 3, 1),\n",
       " (4, 3, 2),\n",
       " (4, 3, 3),\n",
       " (4, 3, 4),\n",
       " (4, 4, 0),\n",
       " (4, 4, 1),\n",
       " (4, 4, 2),\n",
       " (4, 4, 3),\n",
       " (4, 4, 4)]"
      ]
     },
     "execution_count": 20,
     "metadata": {},
     "output_type": "execute_result"
    }
   ],
   "source": [
    "import itertools\n",
    "p=d=q=range(0, 5)\n",
    "pdq=list(itertools.product(p,d,q))\n",
    "pdq"
   ]
  },
  {
   "cell_type": "code",
   "execution_count": 24,
   "metadata": {},
   "outputs": [
    {
     "name": "stdout",
     "output_type": "stream",
     "text": [
      "(0, 0, 0) 319.45286406147864 new best fit\n",
      "(0, 0, 1) 318.72448140936064 new best fit\n",
      "(0, 0, 2) 315.25060075530547 new best fit\n",
      "(0, 0, 3) 316.385352470174\n",
      "(0, 0, 4) 309.8163713692661 new best fit\n",
      "(0, 1, 0) 309.84124796602856\n",
      "(0, 1, 1) 298.32614632006397 new best fit\n",
      "(0, 1, 2) 296.6105590316511 new best fit\n",
      "(0, 1, 3) 297.6342506529151\n",
      "(0, 1, 4) 299.0805206239961\n",
      "(0, 2, 0) 327.18352274695803\n",
      "(0, 2, 1) 304.1221724637494\n",
      "(0, 2, 2) 290.55995422568975 new best fit\n",
      "(0, 2, 3) 291.4957886799441\n",
      "(0, 2, 4) 293.59179046087803\n",
      "(0, 3, 0) 344.49465685685675\n",
      "(0, 3, 1) 319.96668737041597\n",
      "(0, 3, 2) 300.3727273077952\n",
      "(0, 3, 3) 291.53040146905005\n",
      "(0, 3, 4) 290.4241728584623 new best fit\n",
      "(0, 4, 0) 360.5932760998339\n",
      "(0, 4, 1) 335.03371908774415\n",
      "(0, 4, 2) 313.7789268217239\n",
      "(0, 4, 3) 297.4274855718829\n",
      "(0, 4, 4) 289.6790105042382 new best fit\n",
      "(1, 0, 0) 316.1668717557285\n",
      "(1, 0, 1) 313.04871846520564\n",
      "(1, 0, 2) 310.97906442393946\n",
      "(1, 0, 3) 311.2885301556136\n",
      "(1, 0, 4) 309.06861705888014\n",
      "(1, 1, 0) 297.35922755917244\n",
      "(1, 1, 1) 297.6650628594871\n",
      "(1, 1, 2) 298.183972742161\n",
      "(1, 1, 3) 300.17836531751504\n",
      "(1, 1, 4) 298.18770195909656\n",
      "(1, 2, 0) 304.43840423123\n",
      "(1, 2, 1) 292.7018343342507\n",
      "(1, 2, 2) 291.16031942740796\n",
      "(1, 2, 3) 291.1496444500221\n",
      "(1, 2, 4) 292.746443409404\n",
      "(1, 3, 0) 313.95328873696667\n",
      "(1, 3, 1) 299.3333349283773\n",
      "(1, 3, 2) 290.45857742292446\n",
      "(1, 3, 3) 289.707864820002\n",
      "(1, 3, 4) 289.65432936675137 new best fit\n",
      "(1, 4, 0) 323.6824554155711\n",
      "(1, 4, 1) 306.8269316848484\n",
      "(1, 4, 2) 295.62071584438644\n",
      "(1, 4, 3) 290.7432699299491\n",
      "(1, 4, 4) 290.579967402143\n",
      "(2, 0, 0) 310.99695741154824\n",
      "(2, 0, 1) 312.58223306838977\n",
      "(2, 0, 2) 313.09922685346845\n",
      "(2, 0, 3) 315.1011835633431\n",
      "(2, 0, 4) 310.6572614663085\n",
      "(2, 1, 0) 299.0065239269557\n",
      "(2, 1, 1) 299.55274671624187\n",
      "(2, 1, 2) 300.1829453733131\n",
      "(2, 1, 3) 300.41748392811303\n",
      "(2, 1, 4) 297.41498009039367\n",
      "(2, 2, 0) 304.2196610733092\n",
      "(2, 2, 1) 294.35671167593364\n",
      "(2, 2, 2) 296.37197389346477\n",
      "(2, 2, 3) 292.9014515859247\n",
      "(2, 2, 4) 295.2120289719093\n",
      "(2, 3, 0) 311.74988371241363\n",
      "(2, 3, 1) 299.67416454090016\n",
      "(2, 3, 2) 302.685488927693\n",
      "(2, 3, 3) 294.1588650551701\n",
      "(2, 3, 4) 293.5589132237355\n",
      "(2, 4, 0) 317.85102808623657\n",
      "(2, 4, 1) 305.4020177591514\n",
      "(2, 4, 2) 296.5294937315465\n",
      "(2, 4, 3) 299.01384381782776\n",
      "(2, 4, 4) 296.20528199557907\n",
      "(3, 0, 0) 312.98385875497473\n",
      "(3, 0, 1) 314.43343190877874\n",
      "(3, 0, 2) 315.0983707001899\n",
      "(3, 0, 3) 312.3932066195212\n",
      "(3, 0, 4) 310.31438337410844\n",
      "(3, 1, 0) 295.89187346685657\n",
      "(3, 1, 1) 297.8855926531463\n",
      "(3, 1, 2) 293.90630155114343\n",
      "(3, 1, 3) 295.29096160642723\n",
      "(3, 1, 4) 297.2731379665874\n",
      "(3, 2, 0) 297.42759340442456\n",
      "(3, 2, 1) 290.1324148987792\n",
      "(3, 2, 2) 291.2392976703999\n",
      "(3, 2, 3) 288.0652412789347 new best fit\n",
      "(3, 2, 4) 290.0290689658145\n",
      "(3, 3, 0) 305.7101858368326\n",
      "(3, 3, 1) 294.01424060106154\n",
      "(3, 3, 2) 288.623103209865\n",
      "(3, 3, 3) 290.3783429144633\n",
      "(3, 3, 4) 291.66159858832305\n",
      "(3, 4, 0) 313.30110974001434\n",
      "(3, 4, 1) 300.6264414075139\n",
      "(3, 4, 2) 292.25146842964034\n",
      "(3, 4, 3) 289.46204997403424\n",
      "(3, 4, 4) 294.46861193612324\n",
      "(4, 0, 0) 311.07065620925425\n",
      "(4, 0, 1) 313.0699042591914\n",
      "(4, 0, 2) 309.28130501090305\n",
      "(4, 0, 3) 313.94573256439435\n",
      "(4, 0, 4) 311.67492572936453\n",
      "(4, 1, 0) 297.88098258386276\n",
      "(4, 1, 1) 298.9363677920166\n",
      "(4, 1, 2) 295.13131687919315\n",
      "(4, 1, 3) 296.73240774931935\n",
      "(4, 1, 4) 299.32343012664387\n",
      "(4, 2, 0) 294.5389776018471\n",
      "(4, 2, 1) 291.25395416122143\n",
      "(4, 2, 2) 292.78806310163407\n",
      "(4, 2, 3) 293.93862816008567\n",
      "(4, 2, 4) 291.67406326552685\n",
      "(4, 3, 0) 300.16330531544514\n",
      "(4, 3, 1) 292.0593319714935\n",
      "(4, 3, 2) 290.28179249740936\n",
      "(4, 3, 3) 292.6663961385129\n",
      "(4, 3, 4) 293.49777833645385\n",
      "(4, 4, 0) 306.9143194063575\n",
      "(4, 4, 1) 296.21893364080483\n",
      "(4, 4, 2) 291.3657965168306\n",
      "(4, 4, 3) 289.69253005148744\n",
      "(4, 4, 4) 289.530650307449\n",
      "(3, 2, 3) 288.0652412789347 Completed, best fit\n"
     ]
    }
   ],
   "source": [
    "import warnings\n",
    "warnings.filterwarnings(\"ignore\")\n",
    "        \n",
    "import math\n",
    "aics = []\n",
    "\n",
    "best_param = (0,0,0)\n",
    "best_aic = math.inf\n",
    "for param in pdq:\n",
    "    try:\n",
    "        model_arima = ARIMA(train, order=param)\n",
    "        model_arima_fit = model_arima.fit()\n",
    "        aic = model_arima_fit.aic\n",
    "        if (aic < best_aic):\n",
    "            best_aic = aic\n",
    "            best_param = param\n",
    "            print(param, model_arima_fit.aic, \"new best fit\")\n",
    "        else:\n",
    "            print(param, model_arima_fit.aic)\n",
    "            \n",
    "        aics.append(model_arima_fit.aic)\n",
    "    except Exception as e:\n",
    "        print(e)\n",
    "        continue\n",
    "print(best_param, best_aic, \"Completed, best fit\")"
   ]
  },
  {
   "cell_type": "code",
   "execution_count": 22,
   "metadata": {},
   "outputs": [
    {
     "ename": "SyntaxError",
     "evalue": "invalid syntax (<ipython-input-22-95eb476c26b3>, line 1)",
     "output_type": "error",
     "traceback": [
      "\u001b[0;36m  File \u001b[0;32m\"<ipython-input-22-95eb476c26b3>\"\u001b[0;36m, line \u001b[0;32m1\u001b[0m\n\u001b[0;31m    (3, 2, 3) 288.0652412789347\u001b[0m\n\u001b[0m              ^\u001b[0m\n\u001b[0;31mSyntaxError\u001b[0m\u001b[0;31m:\u001b[0m invalid syntax\n"
     ]
    }
   ],
   "source": []
  },
  {
   "cell_type": "code",
   "execution_count": null,
   "metadata": {},
   "outputs": [],
   "source": []
  }
 ],
 "metadata": {
  "kernelspec": {
   "display_name": "Python 3",
   "language": "python",
   "name": "python3"
  },
  "language_info": {
   "codemirror_mode": {
    "name": "ipython",
    "version": 3
   },
   "file_extension": ".py",
   "mimetype": "text/x-python",
   "name": "python",
   "nbconvert_exporter": "python",
   "pygments_lexer": "ipython3",
   "version": "3.8.5"
  }
 },
 "nbformat": 4,
 "nbformat_minor": 4
}
