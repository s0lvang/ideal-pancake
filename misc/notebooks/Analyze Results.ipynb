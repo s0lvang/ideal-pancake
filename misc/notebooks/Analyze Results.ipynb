{
 "cells": [
  {
   "cell_type": "code",
   "execution_count": 49,
   "id": "7c2f320a",
   "metadata": {},
   "outputs": [],
   "source": [
    "import pandas as pd\n",
    "from matplotlib import pyplot as plt"
   ]
  },
  {
   "cell_type": "code",
   "execution_count": 50,
   "id": "c782fe12",
   "metadata": {},
   "outputs": [
    {
     "data": {
      "text/plain": [
       "Index(['Unnamed: 0', 'rmse', 'oos_rmse', 'FGI', 'in_study_prediction',\n",
       "       'in_study_labels', 'oos_prediction', 'oos_labels',\n",
       "       'dimensionality_reduction', 'out_of_study', 'in_study',\n",
       "       'feature_combinations'],\n",
       "      dtype='object')"
      ]
     },
     "execution_count": 50,
     "metadata": {},
     "output_type": "execute_result"
    }
   ],
   "source": [
    "df = pd.read_csv(\"results_1_to_1_different_scoring.csv\")\n",
    "df.columns"
   ]
  },
  {
   "cell_type": "code",
   "execution_count": 51,
   "id": "f10b6295",
   "metadata": {},
   "outputs": [],
   "source": [
    "feature_group_regexes = {\n",
    "    \"eye_tracking\": [\n",
    "        \"information_processing_ratio\",\n",
    "        \"saccade_speed_skewness\",\n",
    "        \"entropy_xy\",\n",
    "        \"saccade_verticality\",\n",
    "    ],\n",
    "    \"heatmaps\":[\n",
    "        \"heatmaps_*\",\n",
    "    ],\n",
    "    \"fft\":[\n",
    "        \"pupil_diameter_rolling__fft_aggregated_*\",\n",
    "        \"^duration_rolling__fft_aggregated__*\",\n",
    "        \"saccade_length_rolling__fft_aggregated__*\",\n",
    "        \"saccade_duration_rolling__fft_aggregated__*\",\n",
    "    ],\n",
    "    \"lhipa\": [\n",
    "        \"pupil_diameter_rolling__lhipa\",\n",
    "        \"saccade_length_rolling__lhipa\",\n",
    "        \"saccade_duration_rolling__lhipa\",\n",
    "        \"^duration_rolling__lhipa\",\n",
    "    ],\n",
    "    \"markov\":[\n",
    "        \"^duration_rolling__markov\",\n",
    "        \"pupil_diameter_rolling__markov\",\n",
    "        \"saccade_duration_rolling__markov\",\n",
    "        \"saccade_length_rolling__markov\",\n",
    "    ],\n",
    "    \"Arma\": [\n",
    "        \"pupil_diameter_rolling__arma__*\",\n",
    "        \"^duration_rolling__arma__*\",\n",
    "        \"saccade_length_rolling__arma__*\",\n",
    "        \"saccade_duration_rolling__arma__*\",\n",
    "    ],\n",
    "    \"garch\":[\n",
    "        \"saccade_duration_rolling__garch\",\n",
    "        \"^duration_rolling__garch\",\n",
    "        \"pupil_diameter_rolling__garch\",\n",
    "        \"saccade_length_rolling__garch\",\n",
    "    ],\n",
    "    \"pupil_diameter\":[\n",
    "        \"pupil_diameter_rolling__fft_aggregated_*\",\n",
    "        \"pupil_diameter_rolling__lhipa\",\n",
    "        \"pupil_diameter_rolling__markov\",\n",
    "        \"pupil_diameter_rolling__arma__*\",\n",
    "        \"pupil_diameter_rolling__garch\",\n",
    "    ],\n",
    "    \"fixation_duration\":[\n",
    "        \"^duration_rolling__fft_aggregated__*\",\n",
    "        \"^duration_rolling__lhipa\",\n",
    "        \"^duration_rolling__markov\",\n",
    "        \"^duration_rolling__arma__*\",\n",
    "        \"^duration_rolling__garch\",\n",
    "    ],\n",
    "    \"saccade_length\":[\n",
    "        \"saccade_length_rolling__fft_aggregated__*\",\n",
    "        \"saccade_length_rolling__lhipa\",\n",
    "        \"saccade_length_rolling__markov\",\n",
    "        \"saccade_length_rolling__arma__*\",\n",
    "        \"saccade_length_rolling__garch\",\n",
    "    ],\n",
    "    \"saccade_duration\":[\n",
    "        \"saccade_duration_rolling__fft_aggregated__*\",\n",
    "        \"saccade_duration_rolling__lhipa\",\n",
    "        \"saccade_duration_rolling__markov\",\n",
    "        \"saccade_duration_rolling__arma__*\",\n",
    "        \"saccade_duration_rolling__garch\",\n",
    "    ],\n",
    "    \"all\":[\n",
    "        \"information_processing_ratio\",\n",
    "        \"saccade_speed_skewness\",\n",
    "        \"entropy_xy\",\n",
    "        \"saccade_verticality\",\n",
    "        \"heatmaps_*\",\n",
    "        \"pupil_diameter_rolling__fft_aggregated_*\",\n",
    "        \"pupil_diameter_rolling__lhipa\",\n",
    "        \"pupil_diameter_rolling__markov\",\n",
    "        \"pupil_diameter_rolling__arma__*\",\n",
    "        \"pupil_diameter_rolling__garch\",\n",
    "        \"^duration_rolling__fft_aggregated__*\",\n",
    "        \"^duration_rolling__lhipa\",\n",
    "        \"^duration_rolling__markov\",\n",
    "        \"^duration_rolling__arma__*\",\n",
    "        \"^duration_rolling__garch\",\n",
    "        \"saccade_length_rolling__fft_aggregated__*\",\n",
    "        \"saccade_length_rolling__lhipa\",\n",
    "        \"saccade_length_rolling__markov\",\n",
    "        \"saccade_length_rolling__arma__*\",\n",
    "        \"saccade_length_rolling__garch\",\n",
    "        \"saccade_duration_rolling__fft_aggregated__*\",\n",
    "        \"saccade_duration_rolling__lhipa\",\n",
    "        \"saccade_duration_rolling__markov\",\n",
    "        \"saccade_duration_rolling__arma__*\",\n",
    "        \"saccade_duration_rolling__garch\",\n",
    "    ],\n",
    "}\n",
    "\n",
    "inv_map = {str(v): k for k, v in feature_group_regexes.items()}\n",
    "df[\"feature_combinations\"] = df[\"feature_combinations\"].map(inv_map)"
   ]
  },
  {
   "cell_type": "code",
   "execution_count": 52,
   "id": "74c906db",
   "metadata": {},
   "outputs": [
    {
     "data": {
      "text/plain": [
       "<BarContainer object of 12 artists>"
      ]
     },
     "execution_count": 52,
     "metadata": {},
     "output_type": "execute_result"
    },
    {
     "data": {
      "image/png": "[encoded data removed]",
      "text/plain": [
       "<Figure size 432x288 with 1 Axes>"
      ]
     },
     "metadata": {
      "needs_background": "light"
     },
     "output_type": "display_data"
    }
   ],
   "source": [
    "#MINIMUM RMSE PER FEATURE\n",
    "minimum_rmse = df.groupby(by=\"feature_combinations\").min()\n",
    "plt.xticks(rotation=90)\n",
    "plt.bar(minimum_rmse.index, minimum_rmse.loc[:, \"rmse\"])"
   ]
  },
  {
   "cell_type": "code",
   "execution_count": 53,
   "id": "6bead541",
   "metadata": {},
   "outputs": [
    {
     "data": {
      "text/plain": [
       "<BarContainer object of 12 artists>"
      ]
     },
     "execution_count": 53,
     "metadata": {},
     "output_type": "execute_result"
    },
    {
     "data": {
      "image/png": "[encoded data removed]",
      "text/plain": [
       "<Figure size 432x288 with 1 Axes>"
      ]
     },
     "metadata": {
      "needs_background": "light"
     },
     "output_type": "display_data"
    }
   ],
   "source": [
    "#MEAN RMSE PER FEATURE\n",
    "minimum_rmse = df.groupby(by=\"feature_combinations\").mean()\n",
    "plt.xticks(rotation=90)\n",
    "plt.bar(minimum_rmse.index, minimum_rmse.loc[:, \"rmse\"])"
   ]
  },
  {
   "cell_type": "code",
   "execution_count": 54,
   "id": "188a5520",
   "metadata": {},
   "outputs": [
    {
     "data": {
      "text/plain": [
       "<BarContainer object of 3 artists>"
      ]
     },
     "execution_count": 54,
     "metadata": {},
     "output_type": "execute_result"
    },
    {
     "data": {
      "image/png": "[encoded data removed]",
      "text/plain": [
       "<Figure size 432x288 with 1 Axes>"
      ]
     },
     "metadata": {
      "needs_background": "light"
     },
     "output_type": "display_data"
    }
   ],
   "source": [
    "#MINIMUM RMSE PER DATASET\n",
    "minimum_rmse = df.groupby(by=\"in_study\").min()\n",
    "plt.bar(minimum_rmse.index, minimum_rmse.loc[:, \"rmse\"])"
   ]
  },
  {
   "cell_type": "code",
   "execution_count": 55,
   "id": "7dc343ab",
   "metadata": {},
   "outputs": [
    {
     "data": {
      "text/plain": [
       "<BarContainer object of 3 artists>"
      ]
     },
     "execution_count": 55,
     "metadata": {},
     "output_type": "execute_result"
    },
    {
     "data": {
      "image/png": "[encoded data removed]",
      "text/plain": [
       "<Figure size 432x288 with 1 Axes>"
      ]
     },
     "metadata": {
      "needs_background": "light"
     },
     "output_type": "display_data"
    }
   ],
   "source": [
    "# MEAN RMSE PER DATASET\n",
    "minimum_rmse = df.groupby(by=\"in_study\").mean()\n",
    "plt.bar(minimum_rmse.index, minimum_rmse.loc[:, \"rmse\"])"
   ]
  },
  {
   "cell_type": "code",
   "execution_count": 56,
   "id": "aa79aa6b",
   "metadata": {},
   "outputs": [
    {
     "data": {
      "text/plain": [
       "<BarContainer object of 3 artists>"
      ]
     },
     "execution_count": 56,
     "metadata": {},
     "output_type": "execute_result"
    },
    {
     "data": {
      "image/png": "[encoded data removed]",
      "text/plain": [
       "<Figure size 432x288 with 1 Axes>"
      ]
     },
     "metadata": {
      "needs_background": "light"
     },
     "output_type": "display_data"
    }
   ],
   "source": [
    "#MINIMUM RMSE PER oos DATASET\n",
    "minimum_rmse = df.groupby(by=\"out_of_study\").min()\n",
    "plt.bar(minimum_rmse.index, minimum_rmse.loc[:, \"rmse\"])"
   ]
  },
  {
   "cell_type": "code",
   "execution_count": 57,
   "id": "9382efc2",
   "metadata": {},
   "outputs": [
    {
     "data": {
      "text/plain": [
       "<BarContainer object of 3 artists>"
      ]
     },
     "execution_count": 57,
     "metadata": {},
     "output_type": "execute_result"
    },
    {
     "data": {
      "image/png": "[encoded data removed]",
      "text/plain": [
       "<Figure size 432x288 with 1 Axes>"
      ]
     },
     "metadata": {
      "needs_background": "light"
     },
     "output_type": "display_data"
    }
   ],
   "source": [
    "# MEAN RMSE PER oos DATASET\n",
    "minimum_rmse = df.groupby(by=\"out_of_study\").mean()\n",
    "plt.bar(minimum_rmse.index, minimum_rmse.loc[:, \"rmse\"])"
   ]
  },
  {
   "cell_type": "code",
   "execution_count": null,
   "id": "812da8fb",
   "metadata": {},
   "outputs": [],
   "source": []
  }
 ],
 "metadata": {
  "kernelspec": {
   "display_name": "Python 3",
   "language": "python",
   "name": "python3"
  },
  "language_info": {
   "codemirror_mode": {
    "name": "ipython",
    "version": 3
   },
   "file_extension": ".py",
   "mimetype": "text/x-python",
   "name": "python",
   "nbconvert_exporter": "python",
   "pygments_lexer": "ipython3",
   "version": "3.7.9"
  }
 },
 "nbformat": 4,
 "nbformat_minor": 5
}
