{
 "cells": [
  {
   "cell_type": "code",
   "execution_count": 305,
   "id": "7c2f320a",
   "metadata": {},
   "outputs": [],
   "source": [
    "import pandas as pd\n",
    "from matplotlib import pyplot as plt"
   ]
  },
  {
   "cell_type": "code",
   "execution_count": 306,
   "id": "c782fe12",
   "metadata": {},
   "outputs": [
    {
     "data": {
      "text/plain": [
       "Index(['Unnamed: 0', 'rmse', 'oos_rmse', 'FGI', 'in_study_prediction',\n",
       "       'in_study_labels', 'oos_prediction', 'oos_labels',\n",
       "       'dimensionality_reduction', 'out_of_study', 'in_study',\n",
       "       'feature_combinations'],\n",
       "      dtype='object')"
      ]
     },
     "execution_count": 306,
     "metadata": {},
     "output_type": "execute_result"
    }
   ],
   "source": [
    "df = pd.read_csv(\"results_2.csv\")\n",
    "one_to_one_df = pd.read_csv(\"results_1_to_1_different_scoring.csv\")\n",
    "df.columns"
   ]
  },
  {
   "cell_type": "code",
   "execution_count": 307,
   "id": "f10b6295",
   "metadata": {},
   "outputs": [
    {
     "data": {
      "text/html": [
       "<div>\n",
       "<style scoped>\n",
       "    .dataframe tbody tr th:only-of-type {\n",
       "        vertical-align: middle;\n",
       "    }\n",
       "\n",
       "    .dataframe tbody tr th {\n",
       "        vertical-align: top;\n",
       "    }\n",
       "\n",
       "    .dataframe thead th {\n",
       "        text-align: right;\n",
       "    }\n",
       "</style>\n",
       "<table border=\"1\" class=\"dataframe\">\n",
       "  <thead>\n",
       "    <tr style=\"text-align: right;\">\n",
       "      <th></th>\n",
       "      <th>Unnamed: 0</th>\n",
       "      <th>rmse</th>\n",
       "      <th>oos_rmse</th>\n",
       "      <th>FGI</th>\n",
       "      <th>in_study_prediction</th>\n",
       "      <th>in_study_labels</th>\n",
       "      <th>oos_prediction</th>\n",
       "      <th>oos_labels</th>\n",
       "      <th>dimensionality_reduction</th>\n",
       "      <th>out_of_study</th>\n",
       "      <th>in_study</th>\n",
       "      <th>feature_combinations</th>\n",
       "      <th>baseline</th>\n",
       "      <th>oos_baseline</th>\n",
       "      <th>random_baseline</th>\n",
       "      <th>oos_random_baseline</th>\n",
       "    </tr>\n",
       "  </thead>\n",
       "  <tbody>\n",
       "    <tr>\n",
       "      <th>0</th>\n",
       "      <td>0</td>\n",
       "      <td>0.182652</td>\n",
       "      <td>0.285630</td>\n",
       "      <td>0.012656</td>\n",
       "      <td>[0.27909710790000003, 0.4385120934, 0.45321807...</td>\n",
       "      <td>{'14': 0.5, '23': 0.25, '13': 0.25, '21': 0.12...</td>\n",
       "      <td>[0.3667149255, 0.386564528, 0.4604992121, 0.17...</td>\n",
       "      <td>{'Clynelish_1_1_CMapFixations': 1.0, 'Fetterca...</td>\n",
       "      <td>lasso</td>\n",
       "      <td>cscw</td>\n",
       "      <td>fractions</td>\n",
       "      <td>eye_tracking</td>\n",
       "      <td>0.228978</td>\n",
       "      <td>0.205419</td>\n",
       "      <td>0.392952</td>\n",
       "      <td>0.281477</td>\n",
       "    </tr>\n",
       "    <tr>\n",
       "      <th>1</th>\n",
       "      <td>1</td>\n",
       "      <td>0.281150</td>\n",
       "      <td>0.299843</td>\n",
       "      <td>0.012541</td>\n",
       "      <td>[0.1051971136, 0.6860068024, 0.4851417082, 0.3...</td>\n",
       "      <td>{'64': 0.125, '31': 0.125, '54': 0.5, '23': 0....</td>\n",
       "      <td>[0.16189125640000002, 0.5051521785, 0.16151373...</td>\n",
       "      <td>{'Clynelish_1_1_CMapFixations': 1.0, 'Fetterca...</td>\n",
       "      <td>PCA</td>\n",
       "      <td>cscw</td>\n",
       "      <td>fractions</td>\n",
       "      <td>eye_tracking</td>\n",
       "      <td>0.228978</td>\n",
       "      <td>0.205419</td>\n",
       "      <td>0.392952</td>\n",
       "      <td>0.281477</td>\n",
       "    </tr>\n",
       "    <tr>\n",
       "      <th>2</th>\n",
       "      <td>2</td>\n",
       "      <td>0.283040</td>\n",
       "      <td>0.310422</td>\n",
       "      <td>0.012937</td>\n",
       "      <td>[0.297268378, 0.2783751685, 0.2941941973, 0.34...</td>\n",
       "      <td>{'50': 0.75, '61': 0.0, '51': 0.75, '7': 0.625...</td>\n",
       "      <td>[0.2923517504, 0.33083295500000004, 0.30817077...</td>\n",
       "      <td>{'Clynelish_1_1_CMapFixations': 1.0, 'Fetterca...</td>\n",
       "      <td>lasso</td>\n",
       "      <td>cscw</td>\n",
       "      <td>fractions</td>\n",
       "      <td>heatmaps</td>\n",
       "      <td>0.228978</td>\n",
       "      <td>0.205419</td>\n",
       "      <td>0.392952</td>\n",
       "      <td>0.281477</td>\n",
       "    </tr>\n",
       "    <tr>\n",
       "      <th>3</th>\n",
       "      <td>3</td>\n",
       "      <td>0.279803</td>\n",
       "      <td>0.281408</td>\n",
       "      <td>0.013083</td>\n",
       "      <td>[0.3187714874, 0.310072008, 0.3054223287, 0.32...</td>\n",
       "      <td>{'62': 0.125, '82': 0.25, '28': 0.0, '27': 0.0...</td>\n",
       "      <td>[0.34398351650000003, 0.35222613540000003, 0.3...</td>\n",
       "      <td>{'Clynelish_1_1_CMapFixations': 1.0, 'Fetterca...</td>\n",
       "      <td>PCA</td>\n",
       "      <td>cscw</td>\n",
       "      <td>fractions</td>\n",
       "      <td>heatmaps</td>\n",
       "      <td>0.228978</td>\n",
       "      <td>0.205419</td>\n",
       "      <td>0.392952</td>\n",
       "      <td>0.281477</td>\n",
       "    </tr>\n",
       "    <tr>\n",
       "      <th>4</th>\n",
       "      <td>4</td>\n",
       "      <td>0.313391</td>\n",
       "      <td>0.261259</td>\n",
       "      <td>0.012967</td>\n",
       "      <td>[0.2171979356, 0.2389999636, 0.1608469951, 0.2...</td>\n",
       "      <td>{'35': 0.0, '50': 0.75, '51': 0.75, '82': 0.25...</td>\n",
       "      <td>[0.37516437280000003, 0.3872146416, 0.36629620...</td>\n",
       "      <td>{'Clynelish_1_1_CMapFixations': 1.0, 'Fetterca...</td>\n",
       "      <td>lasso</td>\n",
       "      <td>cscw</td>\n",
       "      <td>fractions</td>\n",
       "      <td>fft</td>\n",
       "      <td>0.228978</td>\n",
       "      <td>0.205419</td>\n",
       "      <td>0.392952</td>\n",
       "      <td>0.281477</td>\n",
       "    </tr>\n",
       "    <tr>\n",
       "      <th>...</th>\n",
       "      <td>...</td>\n",
       "      <td>...</td>\n",
       "      <td>...</td>\n",
       "      <td>...</td>\n",
       "      <td>...</td>\n",
       "      <td>...</td>\n",
       "      <td>...</td>\n",
       "      <td>...</td>\n",
       "      <td>...</td>\n",
       "      <td>...</td>\n",
       "      <td>...</td>\n",
       "      <td>...</td>\n",
       "      <td>...</td>\n",
       "      <td>...</td>\n",
       "      <td>...</td>\n",
       "      <td>...</td>\n",
       "    </tr>\n",
       "    <tr>\n",
       "      <th>139</th>\n",
       "      <td>139</td>\n",
       "      <td>0.325007</td>\n",
       "      <td>0.257697</td>\n",
       "      <td>0.010699</td>\n",
       "      <td>[0.32683474030000004, 0.43827630700000003, 0.3...</td>\n",
       "      <td>{'167': 0.0, '165': 0.5, '188': 0.5, '209': 0....</td>\n",
       "      <td>[0.3616813487, 0.4131561153, 0.461097919100000...</td>\n",
       "      <td>{'Clynelish_1_1_CMapFixations': 1.0, 'Fetterca...</td>\n",
       "      <td>PCA</td>\n",
       "      <td>cscw</td>\n",
       "      <td>emip</td>\n",
       "      <td>saccade_length</td>\n",
       "      <td>0.310116</td>\n",
       "      <td>0.205419</td>\n",
       "      <td>0.424136</td>\n",
       "      <td>0.281477</td>\n",
       "    </tr>\n",
       "    <tr>\n",
       "      <th>140</th>\n",
       "      <td>140</td>\n",
       "      <td>0.292237</td>\n",
       "      <td>0.242550</td>\n",
       "      <td>0.010124</td>\n",
       "      <td>[0.40189894200000004, 0.3757510041, 0.44738919...</td>\n",
       "      <td>{'57': 0.5, '39': 0.5, '9': 1.0, '65': 0.0, '2...</td>\n",
       "      <td>[0.44069477220000003, 0.3529502752, 0.30829989...</td>\n",
       "      <td>{'Clynelish_1_1_CMapFixations': 1.0, 'Fetterca...</td>\n",
       "      <td>lasso</td>\n",
       "      <td>cscw</td>\n",
       "      <td>emip</td>\n",
       "      <td>saccade_duration</td>\n",
       "      <td>0.310116</td>\n",
       "      <td>0.205419</td>\n",
       "      <td>0.424136</td>\n",
       "      <td>0.281477</td>\n",
       "    </tr>\n",
       "    <tr>\n",
       "      <th>141</th>\n",
       "      <td>141</td>\n",
       "      <td>0.344605</td>\n",
       "      <td>0.285656</td>\n",
       "      <td>0.010939</td>\n",
       "      <td>[0.6872931449, 0.4676928312, 0.616102292800000...</td>\n",
       "      <td>{'86': 0.5, '116': 0.5, '210': 0.5, '118': 1.0...</td>\n",
       "      <td>[0.2024612052, 0.4208015416, 0.607462448400000...</td>\n",
       "      <td>{'Clynelish_1_1_CMapFixations': 1.0, 'Fetterca...</td>\n",
       "      <td>PCA</td>\n",
       "      <td>cscw</td>\n",
       "      <td>emip</td>\n",
       "      <td>saccade_duration</td>\n",
       "      <td>0.310116</td>\n",
       "      <td>0.205419</td>\n",
       "      <td>0.424136</td>\n",
       "      <td>0.281477</td>\n",
       "    </tr>\n",
       "    <tr>\n",
       "      <th>142</th>\n",
       "      <td>142</td>\n",
       "      <td>0.281845</td>\n",
       "      <td>0.228695</td>\n",
       "      <td>0.009781</td>\n",
       "      <td>[0.5048715818, 0.5267874381000001, 0.392238439...</td>\n",
       "      <td>{'8': 0.5, '14': 0.5, '156': 0.0, '215': 0.5, ...</td>\n",
       "      <td>[0.37082091440000003, 0.3750503281, 0.48174823...</td>\n",
       "      <td>{'Clynelish_1_1_CMapFixations': 1.0, 'Fetterca...</td>\n",
       "      <td>lasso</td>\n",
       "      <td>cscw</td>\n",
       "      <td>emip</td>\n",
       "      <td>all</td>\n",
       "      <td>0.310116</td>\n",
       "      <td>0.205419</td>\n",
       "      <td>0.424136</td>\n",
       "      <td>0.281477</td>\n",
       "    </tr>\n",
       "    <tr>\n",
       "      <th>143</th>\n",
       "      <td>143</td>\n",
       "      <td>0.298325</td>\n",
       "      <td>0.262031</td>\n",
       "      <td>0.010575</td>\n",
       "      <td>[0.47435014540000003, 0.5648920201000001, 0.28...</td>\n",
       "      <td>{'37': 0.5, '74': 1.0, '134': 0.0, '162': 0.5,...</td>\n",
       "      <td>[0.2860915155, 0.4799112616, 0.5264138568, 0.3...</td>\n",
       "      <td>{'Clynelish_1_1_CMapFixations': 1.0, 'Fetterca...</td>\n",
       "      <td>PCA</td>\n",
       "      <td>cscw</td>\n",
       "      <td>emip</td>\n",
       "      <td>all</td>\n",
       "      <td>0.310116</td>\n",
       "      <td>0.205419</td>\n",
       "      <td>0.424136</td>\n",
       "      <td>0.281477</td>\n",
       "    </tr>\n",
       "  </tbody>\n",
       "</table>\n",
       "<p>144 rows × 16 columns</p>\n",
       "</div>"
      ],
      "text/plain": [
       "     Unnamed: 0      rmse  oos_rmse       FGI  \\\n",
       "0             0  0.182652  0.285630  0.012656   \n",
       "1             1  0.281150  0.299843  0.012541   \n",
       "2             2  0.283040  0.310422  0.012937   \n",
       "3             3  0.279803  0.281408  0.013083   \n",
       "4             4  0.313391  0.261259  0.012967   \n",
       "..          ...       ...       ...       ...   \n",
       "139         139  0.325007  0.257697  0.010699   \n",
       "140         140  0.292237  0.242550  0.010124   \n",
       "141         141  0.344605  0.285656  0.010939   \n",
       "142         142  0.281845  0.228695  0.009781   \n",
       "143         143  0.298325  0.262031  0.010575   \n",
       "\n",
       "                                   in_study_prediction  \\\n",
       "0    [0.27909710790000003, 0.4385120934, 0.45321807...   \n",
       "1    [0.1051971136, 0.6860068024, 0.4851417082, 0.3...   \n",
       "2    [0.297268378, 0.2783751685, 0.2941941973, 0.34...   \n",
       "3    [0.3187714874, 0.310072008, 0.3054223287, 0.32...   \n",
       "4    [0.2171979356, 0.2389999636, 0.1608469951, 0.2...   \n",
       "..                                                 ...   \n",
       "139  [0.32683474030000004, 0.43827630700000003, 0.3...   \n",
       "140  [0.40189894200000004, 0.3757510041, 0.44738919...   \n",
       "141  [0.6872931449, 0.4676928312, 0.616102292800000...   \n",
       "142  [0.5048715818, 0.5267874381000001, 0.392238439...   \n",
       "143  [0.47435014540000003, 0.5648920201000001, 0.28...   \n",
       "\n",
       "                                       in_study_labels  \\\n",
       "0    {'14': 0.5, '23': 0.25, '13': 0.25, '21': 0.12...   \n",
       "1    {'64': 0.125, '31': 0.125, '54': 0.5, '23': 0....   \n",
       "2    {'50': 0.75, '61': 0.0, '51': 0.75, '7': 0.625...   \n",
       "3    {'62': 0.125, '82': 0.25, '28': 0.0, '27': 0.0...   \n",
       "4    {'35': 0.0, '50': 0.75, '51': 0.75, '82': 0.25...   \n",
       "..                                                 ...   \n",
       "139  {'167': 0.0, '165': 0.5, '188': 0.5, '209': 0....   \n",
       "140  {'57': 0.5, '39': 0.5, '9': 1.0, '65': 0.0, '2...   \n",
       "141  {'86': 0.5, '116': 0.5, '210': 0.5, '118': 1.0...   \n",
       "142  {'8': 0.5, '14': 0.5, '156': 0.0, '215': 0.5, ...   \n",
       "143  {'37': 0.5, '74': 1.0, '134': 0.0, '162': 0.5,...   \n",
       "\n",
       "                                        oos_prediction  \\\n",
       "0    [0.3667149255, 0.386564528, 0.4604992121, 0.17...   \n",
       "1    [0.16189125640000002, 0.5051521785, 0.16151373...   \n",
       "2    [0.2923517504, 0.33083295500000004, 0.30817077...   \n",
       "3    [0.34398351650000003, 0.35222613540000003, 0.3...   \n",
       "4    [0.37516437280000003, 0.3872146416, 0.36629620...   \n",
       "..                                                 ...   \n",
       "139  [0.3616813487, 0.4131561153, 0.461097919100000...   \n",
       "140  [0.44069477220000003, 0.3529502752, 0.30829989...   \n",
       "141  [0.2024612052, 0.4208015416, 0.607462448400000...   \n",
       "142  [0.37082091440000003, 0.3750503281, 0.48174823...   \n",
       "143  [0.2860915155, 0.4799112616, 0.5264138568, 0.3...   \n",
       "\n",
       "                                            oos_labels  \\\n",
       "0    {'Clynelish_1_1_CMapFixations': 1.0, 'Fetterca...   \n",
       "1    {'Clynelish_1_1_CMapFixations': 1.0, 'Fetterca...   \n",
       "2    {'Clynelish_1_1_CMapFixations': 1.0, 'Fetterca...   \n",
       "3    {'Clynelish_1_1_CMapFixations': 1.0, 'Fetterca...   \n",
       "4    {'Clynelish_1_1_CMapFixations': 1.0, 'Fetterca...   \n",
       "..                                                 ...   \n",
       "139  {'Clynelish_1_1_CMapFixations': 1.0, 'Fetterca...   \n",
       "140  {'Clynelish_1_1_CMapFixations': 1.0, 'Fetterca...   \n",
       "141  {'Clynelish_1_1_CMapFixations': 1.0, 'Fetterca...   \n",
       "142  {'Clynelish_1_1_CMapFixations': 1.0, 'Fetterca...   \n",
       "143  {'Clynelish_1_1_CMapFixations': 1.0, 'Fetterca...   \n",
       "\n",
       "    dimensionality_reduction out_of_study   in_study feature_combinations  \\\n",
       "0                      lasso         cscw  fractions         eye_tracking   \n",
       "1                        PCA         cscw  fractions         eye_tracking   \n",
       "2                      lasso         cscw  fractions             heatmaps   \n",
       "3                        PCA         cscw  fractions             heatmaps   \n",
       "4                      lasso         cscw  fractions                  fft   \n",
       "..                       ...          ...        ...                  ...   \n",
       "139                      PCA         cscw       emip       saccade_length   \n",
       "140                    lasso         cscw       emip     saccade_duration   \n",
       "141                      PCA         cscw       emip     saccade_duration   \n",
       "142                    lasso         cscw       emip                  all   \n",
       "143                      PCA         cscw       emip                  all   \n",
       "\n",
       "     baseline  oos_baseline  random_baseline  oos_random_baseline  \n",
       "0    0.228978      0.205419         0.392952             0.281477  \n",
       "1    0.228978      0.205419         0.392952             0.281477  \n",
       "2    0.228978      0.205419         0.392952             0.281477  \n",
       "3    0.228978      0.205419         0.392952             0.281477  \n",
       "4    0.228978      0.205419         0.392952             0.281477  \n",
       "..        ...           ...              ...                  ...  \n",
       "139  0.310116      0.205419         0.424136             0.281477  \n",
       "140  0.310116      0.205419         0.424136             0.281477  \n",
       "141  0.310116      0.205419         0.424136             0.281477  \n",
       "142  0.310116      0.205419         0.424136             0.281477  \n",
       "143  0.310116      0.205419         0.424136             0.281477  \n",
       "\n",
       "[144 rows x 16 columns]"
      ]
     },
     "execution_count": 307,
     "metadata": {},
     "output_type": "execute_result"
    }
   ],
   "source": [
    "feature_group_regexes = {\n",
    "    \"eye_tracking\": [\n",
    "        \"information_processing_ratio\",\n",
    "        \"saccade_speed_skewness\",\n",
    "        \"entropy_xy\",\n",
    "        \"saccade_verticality\",\n",
    "    ],\n",
    "    \"heatmaps\":[\n",
    "        \"heatmaps_*\",\n",
    "    ],\n",
    "    \"fft\":[\n",
    "        \"pupil_diameter_rolling__fft_aggregated_*\",\n",
    "        \"^duration_rolling__fft_aggregated__*\",\n",
    "        \"saccade_length_rolling__fft_aggregated__*\",\n",
    "        \"saccade_duration_rolling__fft_aggregated__*\",\n",
    "    ],\n",
    "    \"lhipa\": [\n",
    "        \"pupil_diameter_rolling__lhipa\",\n",
    "        \"saccade_length_rolling__lhipa\",\n",
    "        \"saccade_duration_rolling__lhipa\",\n",
    "        \"^duration_rolling__lhipa\",\n",
    "    ],\n",
    "    \"markov\":[\n",
    "        \"^duration_rolling__markov\",\n",
    "        \"pupil_diameter_rolling__markov\",\n",
    "        \"saccade_duration_rolling__markov\",\n",
    "        \"saccade_length_rolling__markov\",\n",
    "    ],\n",
    "    \"Arma\": [\n",
    "        \"pupil_diameter_rolling__arma__*\",\n",
    "        \"^duration_rolling__arma__*\",\n",
    "        \"saccade_length_rolling__arma__*\",\n",
    "        \"saccade_duration_rolling__arma__*\",\n",
    "    ],\n",
    "    \"garch\":[\n",
    "        \"saccade_duration_rolling__garch\",\n",
    "        \"^duration_rolling__garch\",\n",
    "        \"pupil_diameter_rolling__garch\",\n",
    "        \"saccade_length_rolling__garch\",\n",
    "    ],\n",
    "    \"pupil_diameter\":[\n",
    "        \"pupil_diameter_rolling__fft_aggregated_*\",\n",
    "        \"pupil_diameter_rolling__lhipa\",\n",
    "        \"pupil_diameter_rolling__markov\",\n",
    "        \"pupil_diameter_rolling__arma__*\",\n",
    "        \"pupil_diameter_rolling__garch\",\n",
    "    ],\n",
    "    \"fixation_duration\":[\n",
    "        \"^duration_rolling__fft_aggregated__*\",\n",
    "        \"^duration_rolling__lhipa\",\n",
    "        \"^duration_rolling__markov\",\n",
    "        \"^duration_rolling__arma__*\",\n",
    "        \"^duration_rolling__garch\",\n",
    "    ],\n",
    "    \"saccade_length\":[\n",
    "        \"saccade_length_rolling__fft_aggregated__*\",\n",
    "        \"saccade_length_rolling__lhipa\",\n",
    "        \"saccade_length_rolling__markov\",\n",
    "        \"saccade_length_rolling__arma__*\",\n",
    "        \"saccade_length_rolling__garch\",\n",
    "    ],\n",
    "    \"saccade_duration\":[\n",
    "        \"saccade_duration_rolling__fft_aggregated__*\",\n",
    "        \"saccade_duration_rolling__lhipa\",\n",
    "        \"saccade_duration_rolling__markov\",\n",
    "        \"saccade_duration_rolling__arma__*\",\n",
    "        \"saccade_duration_rolling__garch\",\n",
    "    ],\n",
    "    \"all\":[\n",
    "        \"information_processing_ratio\",\n",
    "        \"saccade_speed_skewness\",\n",
    "        \"entropy_xy\",\n",
    "        \"saccade_verticality\",\n",
    "        \"heatmaps_*\",\n",
    "        \"pupil_diameter_rolling__fft_aggregated_*\",\n",
    "        \"pupil_diameter_rolling__lhipa\",\n",
    "        \"pupil_diameter_rolling__markov\",\n",
    "        \"pupil_diameter_rolling__arma__*\",\n",
    "        \"pupil_diameter_rolling__garch\",\n",
    "        \"^duration_rolling__fft_aggregated__*\",\n",
    "        \"^duration_rolling__lhipa\",\n",
    "        \"^duration_rolling__markov\",\n",
    "        \"^duration_rolling__arma__*\",\n",
    "        \"^duration_rolling__garch\",\n",
    "        \"saccade_length_rolling__fft_aggregated__*\",\n",
    "        \"saccade_length_rolling__lhipa\",\n",
    "        \"saccade_length_rolling__markov\",\n",
    "        \"saccade_length_rolling__arma__*\",\n",
    "        \"saccade_length_rolling__garch\",\n",
    "        \"saccade_duration_rolling__fft_aggregated__*\",\n",
    "        \"saccade_duration_rolling__lhipa\",\n",
    "        \"saccade_duration_rolling__markov\",\n",
    "        \"saccade_duration_rolling__arma__*\",\n",
    "        \"saccade_duration_rolling__garch\",\n",
    "    ],\n",
    "}\n",
    "\n",
    "baselines = {\n",
    " \"cscw\": 0.2054194369131811,\n",
    " \"emip\": 0.31011607853729956,\n",
    " \"fractions\": 0.22897823445668405,\n",
    " \"emip_fractions\": 0.2943192380673428,\n",
    " \"fractions_cscw\": 0.23408157826890597,\n",
    " \"emip_cscw\": 0.28871689591649174\n",
    "}\n",
    "random_baselines = {\n",
    " 'cscw': 0.35408194888273653,\n",
    " 'emip': 0.4241358322246148,\n",
    " 'fractions': 0.39295164906188074,\n",
    " 'emip_fractions': 0.4170846635199361,\n",
    " 'fractions_cscw': 0.37619048780763514,\n",
    " 'emip_cscw': 0.40841293420269603\n",
    "}\n",
    "\n",
    "\n",
    "name_mapping = {\n",
    " \"['cscw']\": \"cscw\",\n",
    " \"['emip']\": \"emip\",\n",
    " \"['fractions']\": \"fractions\",\n",
    " \"['emip', 'fractions']\": \"emip_fractions\",\n",
    " \"['fractions', 'cscw']\": \"fractions_cscw\",\n",
    " \"['emip', 'cscw']\": \"emip_cscw\"\n",
    "}\n",
    "\n",
    "inv_map = {str(v): k for k, v in feature_group_regexes.items()}\n",
    "df[\"feature_combinations\"] = df[\"feature_combinations\"].map(inv_map)\n",
    "df[\"in_study\"] = df[\"in_study\"].map(name_mapping)\n",
    "df[\"baseline\"] = df.loc[:, \"in_study\"].map(baselines)\n",
    "df[\"oos_baseline\"] = df.loc[:, \"out_of_study\"].map(baselines)\n",
    "df[\"random_baseline\"] = df.loc[:, \"in_study\"].map(random_baselines)\n",
    "df[\"oos_random_baseline\"] = 0.281476819416418 #df.loc[:, \"out_of_study\"].map(random_baselines)\n",
    "\n",
    "one_to_one_df[\"feature_combinations\"] = one_to_one_df[\"feature_combinations\"].map(inv_map)\n",
    "one_to_one_df[\"in_study\"] = one_to_one_df[\"in_study\"].map(name_mapping)\n",
    "one_to_one_df[\"baseline\"] = one_to_one_df.loc[:, \"in_study\"].map(baselines)\n",
    "one_to_one_df[\"oos_baseline\"] = one_to_one_df.loc[:, \"out_of_study\"].map(baselines)\n",
    "one_to_one_df[\"random_baseline\"] = one_to_one_df.loc[:, \"in_study\"].map(random_baselines)\n",
    "one_to_one_df[\"oos_random_baseline\"] = 0.281476819416418 #one_to_one_df.loc[:, \"out_of_study\"].map(random_baselines)\n",
    "one_to_one_df"
   ]
  },
  {
   "cell_type": "code",
   "execution_count": 312,
   "id": "74c906db",
   "metadata": {},
   "outputs": [
    {
     "data": {
      "text/plain": [
       "(array([ 0,  1,  2,  3,  4,  5,  6,  7,  8,  9, 10, 11]),\n",
       " [Text(0, 0, 'Arma'),\n",
       "  Text(1, 0, 'all'),\n",
       "  Text(2, 0, 'eye_tracking'),\n",
       "  Text(3, 0, 'fft'),\n",
       "  Text(4, 0, 'fixation_duration'),\n",
       "  Text(5, 0, 'garch'),\n",
       "  Text(6, 0, 'heatmaps'),\n",
       "  Text(7, 0, 'lhipa'),\n",
       "  Text(8, 0, 'markov'),\n",
       "  Text(9, 0, 'pupil_diameter'),\n",
       "  Text(10, 0, 'saccade_duration'),\n",
       "  Text(11, 0, 'saccade_length')])"
      ]
     },
     "execution_count": 312,
     "metadata": {},
     "output_type": "execute_result"
    },
    {
     "data": {
      "image/png": "[encoded data removed]",
      "text/plain": [
       "<Figure size 432x288 with 1 Axes>"
      ]
     },
     "metadata": {
      "needs_background": "light"
     },
     "output_type": "display_data"
    }
   ],
   "source": [
    "#MINIMUM RMSE PER FEATURE\n",
    "minimum_rmse = df.loc[df.groupby('feature_combinations')[\"rmse\"].idxmin()]\n",
    "minimum_rmse.plot.bar(x=\"feature_combinations\", y=[\"rmse\", \"baseline\"])\n",
    "plt.xticks(rotation=90)"
   ]
  },
  {
   "cell_type": "code",
   "execution_count": 313,
   "id": "6bead541",
   "metadata": {},
   "outputs": [
    {
     "data": {
      "text/plain": [
       "(array([ 0,  1,  2,  3,  4,  5,  6,  7,  8,  9, 10, 11]),\n",
       " [Text(0, 0, 'Arma'),\n",
       "  Text(1, 0, 'all'),\n",
       "  Text(2, 0, 'eye_tracking'),\n",
       "  Text(3, 0, 'fft'),\n",
       "  Text(4, 0, 'fixation_duration'),\n",
       "  Text(5, 0, 'garch'),\n",
       "  Text(6, 0, 'heatmaps'),\n",
       "  Text(7, 0, 'lhipa'),\n",
       "  Text(8, 0, 'markov'),\n",
       "  Text(9, 0, 'pupil_diameter'),\n",
       "  Text(10, 0, 'saccade_duration'),\n",
       "  Text(11, 0, 'saccade_length')])"
      ]
     },
     "execution_count": 313,
     "metadata": {},
     "output_type": "execute_result"
    },
    {
     "data": {
      "image/png": "[encoded data removed]",
      "text/plain": [
       "<Figure size 432x288 with 1 Axes>"
      ]
     },
     "metadata": {
      "needs_background": "light"
     },
     "output_type": "display_data"
    }
   ],
   "source": [
    "#MINIMUM OOS_RMSE PER FEATURE\n",
    "minimum_rmse = df.loc[df.groupby('feature_combinations')[\"oos_rmse\"].idxmin()]\n",
    "minimum_rmse.plot.bar(x=\"feature_combinations\", y=[\"oos_rmse\", \"oos_baseline\"])\n",
    "plt.xticks(rotation=90)"
   ]
  },
  {
   "cell_type": "code",
   "execution_count": 310,
   "id": "188a5520",
   "metadata": {},
   "outputs": [
    {
     "data": {
      "text/plain": [
       "<AxesSubplot:xlabel='in_study'>"
      ]
     },
     "execution_count": 310,
     "metadata": {},
     "output_type": "execute_result"
    },
    {
     "data": {
      "image/png": "[encoded data removed]",
      "text/plain": [
       "<Figure size 432x288 with 1 Axes>"
      ]
     },
     "metadata": {
      "needs_background": "light"
     },
     "output_type": "display_data"
    }
   ],
   "source": [
    "#MINIMUM RMSE PER DATASET\n",
    "minimum_rmse = df.loc[df.groupby('in_study')[\"rmse\"].idxmin()]\n",
    "minimum_rmse.plot.bar(x=\"in_study\", y=[\"rmse\", \"baseline\"])"
   ]
  },
  {
   "cell_type": "code",
   "execution_count": 297,
   "id": "7dc343ab",
   "metadata": {},
   "outputs": [
    {
     "data": {
      "text/plain": [
       "<AxesSubplot:xlabel='out_of_study'>"
      ]
     },
     "execution_count": 297,
     "metadata": {},
     "output_type": "execute_result"
    },
    {
     "data": {
      "image/png": "[encoded data removed]",
      "text/plain": [
       "<Figure size 432x288 with 1 Axes>"
      ]
     },
     "metadata": {
      "needs_background": "light"
     },
     "output_type": "display_data"
    }
   ],
   "source": [
    "# OOS best pipeline vs baseline\n",
    "minimum_rmse = df.loc[df.groupby('out_of_study')[\"rmse\"].idxmin()]\n",
    "minimum_rmse.plot.bar(x=\"out_of_study\", y=[\"oos_rmse\", \"oos_baseline\", \"oos_random_baseline\"])"
   ]
  },
  {
   "cell_type": "code",
   "execution_count": 279,
   "id": "aa79aa6b",
   "metadata": {},
   "outputs": [
    {
     "data": {
      "text/plain": [
       "<AxesSubplot:xlabel='in_study'>"
      ]
     },
     "execution_count": 279,
     "metadata": {},
     "output_type": "execute_result"
    },
    {
     "data": {
      "image/png": "[encoded data removed]",
      "text/plain": [
       "<Figure size 432x288 with 1 Axes>"
      ]
     },
     "metadata": {
      "needs_background": "light"
     },
     "output_type": "display_data"
    }
   ],
   "source": [
    "#MINIMUM RMSE PER oos DATASET\n",
    "minimum_rmse = one_to_one_df.loc[one_to_one_df.groupby('in_study')[\"rmse\"].idxmin()]\n",
    "minimum_rmse.plot.bar(x=\"in_study\", y=[\"rmse\", \"baseline\"])"
   ]
  },
  {
   "cell_type": "code",
   "execution_count": 265,
   "id": "9382efc2",
   "metadata": {},
   "outputs": [
    {
     "data": {
      "text/plain": [
       "<AxesSubplot:xlabel='out_of_study'>"
      ]
     },
     "execution_count": 265,
     "metadata": {},
     "output_type": "execute_result"
    },
    {
     "data": {
      "image/png": "[encoded data removed]",
      "text/plain": [
       "<Figure size 432x288 with 1 Axes>"
      ]
     },
     "metadata": {
      "needs_background": "light"
     },
     "output_type": "display_data"
    }
   ],
   "source": [
    "minimum_rmse = one_to_one_df.loc[one_to_one_df.groupby('out_of_study')[\"rmse\"].idxmin()]\n",
    "minimum_rmse.plot.bar(x=\"out_of_study\", y=[\"rmse\", \"baseline\"])"
   ]
  },
  {
   "cell_type": "code",
   "execution_count": 93,
   "id": "812da8fb",
   "metadata": {},
   "outputs": [
    {
     "name": "stderr",
     "output_type": "stream",
     "text": [
      "/Users/august/Library/Caches/pypoetry/virtualenvs/ideal-pancake-DNon77ew-py3.7/lib/python3.7/site-packages/ipykernel_launcher.py:5: UserWarning: FixedFormatter should only be used together with FixedLocator\n",
      "  \"\"\"\n"
     ]
    },
    {
     "data": {
      "image/png": "[encoded data removed]",
      "text/plain": [
       "<Figure size 432x288 with 1 Axes>"
      ]
     },
     "metadata": {
      "needs_background": "light"
     },
     "output_type": "display_data"
    }
   ],
   "source": [
    "# MEAN RMSE PER oos DATASET\n",
    "smallest = df.nsmallest(10, \"rmse\")\n",
    "fig, ax = plt.subplots()\n",
    "ax.bar(range(len(smallest.index)), smallest.loc[:, \"rmse\"])\n",
    "ax.set_xticklabels(smallest.loc[:, \"dimensionality_reduction\"])\n",
    "plt.show()"
   ]
  },
  {
   "cell_type": "code",
   "execution_count": 267,
   "id": "3c9559cb",
   "metadata": {},
   "outputs": [
    {
     "data": {
      "text/plain": [
       "[Text(0, 0, 'PCA'),\n",
       " Text(1, 0, 'lasso'),\n",
       " Text(2, 0, 'lasso'),\n",
       " Text(3, 0, 'lasso'),\n",
       " Text(4, 0, 'lasso'),\n",
       " Text(5, 0, 'lasso'),\n",
       " Text(6, 0, 'PCA'),\n",
       " Text(7, 0, 'lasso'),\n",
       " Text(8, 0, 'lasso'),\n",
       " Text(9, 0, 'lasso'),\n",
       " Text(10, 0, 'PCA'),\n",
       " Text(11, 0, 'PCA'),\n",
       " Text(12, 0, 'PCA'),\n",
       " Text(13, 0, 'PCA'),\n",
       " Text(14, 0, 'PCA'),\n",
       " Text(15, 0, 'lasso'),\n",
       " Text(16, 0, 'lasso'),\n",
       " Text(17, 0, 'PCA'),\n",
       " Text(18, 0, 'lasso'),\n",
       " Text(19, 0, 'lasso')]"
      ]
     },
     "execution_count": 267,
     "metadata": {},
     "output_type": "execute_result"
    },
    {
     "data": {
      "image/png": "[encoded data removed]",
      "text/plain": [
       "<Figure size 432x288 with 1 Axes>"
      ]
     },
     "metadata": {
      "needs_background": "light"
     },
     "output_type": "display_data"
    }
   ],
   "source": [
    "# TOP 13 RMSE with dimensionality reduction\n",
    "smallest = df.nsmallest(20, \"rmse\")\n",
    "ax = smallest.loc[:,\"rmse\"].plot(kind=\"bar\", use_index=False)\n",
    "ax.set_xticks(range(len(smallest)))\n",
    "ax.set_xticklabels(smallest[\"dimensionality_reduction\"], rotation=90)"
   ]
  },
  {
   "cell_type": "code",
   "execution_count": 268,
   "id": "d4f2d250",
   "metadata": {},
   "outputs": [
    {
     "ename": "SyntaxError",
     "evalue": "invalid syntax (<ipython-input-268-bfe63e77d5a5>, line 3)",
     "output_type": "error",
     "traceback": [
      "\u001b[0;36m  File \u001b[0;32m\"<ipython-input-268-bfe63e77d5a5>\"\u001b[0;36m, line \u001b[0;32m3\u001b[0m\n\u001b[0;31m    ax = smallest.loc[].plot(kind=\"bar\", y use_index=False)\u001b[0m\n\u001b[0m                      ^\u001b[0m\n\u001b[0;31mSyntaxError\u001b[0m\u001b[0;31m:\u001b[0m invalid syntax\n"
     ]
    }
   ],
   "source": [
    "# TOP 13 RMSE with features\n",
    "smallest = df.loc[\"out_of_study\"].nsmallest(13, \"oos_rmse\")\n",
    "ax = smallest.loc[].plot(kind=\"bar\", y use_index=False)\n",
    "ax.set_xticks(range(len(smallest)))\n",
    "ax.set_xticklabels(smallest[\"feature_combinations\"], rotation=90)"
   ]
  },
  {
   "cell_type": "code",
   "execution_count": 275,
   "id": "81353d91",
   "metadata": {},
   "outputs": [
    {
     "data": {
      "text/plain": [
       "[Text(0, 0, 'garch'),\n",
       " Text(1, 0, 'pupil_diameter'),\n",
       " Text(2, 0, 'saccade_length'),\n",
       " Text(3, 0, 'saccade_duration'),\n",
       " Text(4, 0, 'Arma'),\n",
       " Text(5, 0, 'pupil_diameter'),\n",
       " Text(6, 0, 'markov'),\n",
       " Text(7, 0, 'saccade_duration'),\n",
       " Text(8, 0, 'fft'),\n",
       " Text(9, 0, 'Arma'),\n",
       " Text(10, 0, 'all'),\n",
       " Text(11, 0, 'fixation_duration'),\n",
       " Text(12, 0, 'lhipa')]"
      ]
     },
     "execution_count": 275,
     "metadata": {},
     "output_type": "execute_result"
    },
    {
     "data": {
      "image/png": "[encoded data removed]",
      "text/plain": [
       "<Figure size 432x288 with 1 Axes>"
      ]
     },
     "metadata": {
      "needs_background": "light"
     },
     "output_type": "display_data"
    }
   ],
   "source": [
    "# TOP 13 OOS_RMSE with features\n",
    "smallest = df.nsmallest(13, \"oos_rmse\")\n",
    "ax = smallest.plot(kind=\"bar\", y=\"oos_rmse\", use_index=False)\n",
    "ax.set_xticks(range(len(smallest)))\n",
    "ax.set_xticklabels(smallest[\"feature_combinations\"], rotation=90)"
   ]
  },
  {
   "cell_type": "code",
   "execution_count": 131,
   "id": "96eaffe9",
   "metadata": {},
   "outputs": [
    {
     "ename": "ValueError",
     "evalue": "Can only compare identically-labeled DataFrame objects",
     "output_type": "error",
     "traceback": [
      "\u001b[0;31m---------------------------------------------------------------------------\u001b[0m",
      "\u001b[0;31mValueError\u001b[0m                                Traceback (most recent call last)",
      "\u001b[0;32m<ipython-input-131-b9348ae5c670>\u001b[0m in \u001b[0;36m<module>\u001b[0;34m\u001b[0m\n\u001b[1;32m      1\u001b[0m \u001b[0;31m# TOP 13 RMSE with dimensionality reduction\u001b[0m\u001b[0;34m\u001b[0m\u001b[0;34m\u001b[0m\u001b[0;34m\u001b[0m\u001b[0m\n\u001b[1;32m      2\u001b[0m \u001b[0msmallest\u001b[0m \u001b[0;34m=\u001b[0m \u001b[0mdf\u001b[0m\u001b[0;34m.\u001b[0m\u001b[0mnsmallest\u001b[0m\u001b[0;34m(\u001b[0m\u001b[0;36m13\u001b[0m\u001b[0;34m,\u001b[0m \u001b[0;34m\"rmse\"\u001b[0m\u001b[0;34m)\u001b[0m\u001b[0;34m\u001b[0m\u001b[0;34m\u001b[0m\u001b[0m\n\u001b[0;32m----> 3\u001b[0;31m \u001b[0msmallest_with_other_dim\u001b[0m \u001b[0;34m=\u001b[0m \u001b[0mdf\u001b[0m\u001b[0;34m[\u001b[0m\u001b[0mdf\u001b[0m\u001b[0;34m.\u001b[0m\u001b[0mloc\u001b[0m\u001b[0;34m[\u001b[0m\u001b[0;34m:\u001b[0m\u001b[0;34m,\u001b[0m \u001b[0;34m[\u001b[0m\u001b[0;34m\"feature_combinations\"\u001b[0m\u001b[0;34m,\u001b[0m \u001b[0;34m\"in_study\"\u001b[0m\u001b[0;34m]\u001b[0m\u001b[0;34m]\u001b[0m \u001b[0;34m==\u001b[0m \u001b[0msmallest\u001b[0m\u001b[0;34m.\u001b[0m\u001b[0mloc\u001b[0m\u001b[0;34m[\u001b[0m\u001b[0;34m:\u001b[0m\u001b[0;34m,\u001b[0m \u001b[0;34m[\u001b[0m\u001b[0;34m\"feature_combinations\"\u001b[0m\u001b[0;34m,\u001b[0m \u001b[0;34m\"in_study\"\u001b[0m\u001b[0;34m]\u001b[0m \u001b[0;34m]\u001b[0m \u001b[0;34m]\u001b[0m\u001b[0;34m\u001b[0m\u001b[0;34m\u001b[0m\u001b[0m\n\u001b[0m\u001b[1;32m      4\u001b[0m \u001b[0max\u001b[0m \u001b[0;34m=\u001b[0m \u001b[0msmallest\u001b[0m\u001b[0;34m.\u001b[0m\u001b[0mloc\u001b[0m\u001b[0;34m[\u001b[0m\u001b[0;34m:\u001b[0m\u001b[0;34m,\u001b[0m\u001b[0;34m\"rmse\"\u001b[0m\u001b[0;34m]\u001b[0m\u001b[0;34m.\u001b[0m\u001b[0mplot\u001b[0m\u001b[0;34m(\u001b[0m\u001b[0mkind\u001b[0m\u001b[0;34m=\u001b[0m\u001b[0;34m\"bar\"\u001b[0m\u001b[0;34m,\u001b[0m \u001b[0muse_index\u001b[0m\u001b[0;34m=\u001b[0m\u001b[0;32mFalse\u001b[0m\u001b[0;34m)\u001b[0m\u001b[0;34m\u001b[0m\u001b[0;34m\u001b[0m\u001b[0m\n\u001b[1;32m      5\u001b[0m \u001b[0max\u001b[0m\u001b[0;34m.\u001b[0m\u001b[0mset_xticks\u001b[0m\u001b[0;34m(\u001b[0m\u001b[0mrange\u001b[0m\u001b[0;34m(\u001b[0m\u001b[0mlen\u001b[0m\u001b[0;34m(\u001b[0m\u001b[0msmallest\u001b[0m\u001b[0;34m)\u001b[0m\u001b[0;34m)\u001b[0m\u001b[0;34m)\u001b[0m\u001b[0;34m\u001b[0m\u001b[0;34m\u001b[0m\u001b[0m\n",
      "\u001b[0;32m~/Library/Caches/pypoetry/virtualenvs/ideal-pancake-DNon77ew-py3.7/lib/python3.7/site-packages/pandas/core/ops/__init__.py\u001b[0m in \u001b[0;36mf\u001b[0;34m(self, other)\u001b[0m\n\u001b[1;32m    703\u001b[0m         \u001b[0maxis\u001b[0m \u001b[0;34m=\u001b[0m \u001b[0;36m1\u001b[0m  \u001b[0;31m# only relevant for Series other case\u001b[0m\u001b[0;34m\u001b[0m\u001b[0;34m\u001b[0m\u001b[0m\n\u001b[1;32m    704\u001b[0m \u001b[0;34m\u001b[0m\u001b[0m\n\u001b[0;32m--> 705\u001b[0;31m         \u001b[0mself\u001b[0m\u001b[0;34m,\u001b[0m \u001b[0mother\u001b[0m \u001b[0;34m=\u001b[0m \u001b[0m_align_method_FRAME\u001b[0m\u001b[0;34m(\u001b[0m\u001b[0mself\u001b[0m\u001b[0;34m,\u001b[0m \u001b[0mother\u001b[0m\u001b[0;34m,\u001b[0m \u001b[0maxis\u001b[0m\u001b[0;34m,\u001b[0m \u001b[0mlevel\u001b[0m\u001b[0;34m=\u001b[0m\u001b[0;32mNone\u001b[0m\u001b[0;34m,\u001b[0m \u001b[0mflex\u001b[0m\u001b[0;34m=\u001b[0m\u001b[0;32mFalse\u001b[0m\u001b[0;34m)\u001b[0m\u001b[0;34m\u001b[0m\u001b[0;34m\u001b[0m\u001b[0m\n\u001b[0m\u001b[1;32m    706\u001b[0m \u001b[0;34m\u001b[0m\u001b[0m\n\u001b[1;32m    707\u001b[0m         \u001b[0;31m# See GH#4537 for discussion of scalar op behavior\u001b[0m\u001b[0;34m\u001b[0m\u001b[0;34m\u001b[0m\u001b[0;34m\u001b[0m\u001b[0m\n",
      "\u001b[0;32m~/Library/Caches/pypoetry/virtualenvs/ideal-pancake-DNon77ew-py3.7/lib/python3.7/site-packages/pandas/core/ops/__init__.py\u001b[0m in \u001b[0;36m_align_method_FRAME\u001b[0;34m(left, right, axis, flex, level)\u001b[0m\n\u001b[1;32m    509\u001b[0m             \u001b[0;32melse\u001b[0m\u001b[0;34m:\u001b[0m\u001b[0;34m\u001b[0m\u001b[0;34m\u001b[0m\u001b[0m\n\u001b[1;32m    510\u001b[0m                 raise ValueError(\n\u001b[0;32m--> 511\u001b[0;31m                     \u001b[0;34m\"Can only compare identically-labeled DataFrame objects\"\u001b[0m\u001b[0;34m\u001b[0m\u001b[0;34m\u001b[0m\u001b[0m\n\u001b[0m\u001b[1;32m    512\u001b[0m                 )\n\u001b[1;32m    513\u001b[0m     \u001b[0;32melif\u001b[0m \u001b[0misinstance\u001b[0m\u001b[0;34m(\u001b[0m\u001b[0mright\u001b[0m\u001b[0;34m,\u001b[0m \u001b[0mABCSeries\u001b[0m\u001b[0;34m)\u001b[0m\u001b[0;34m:\u001b[0m\u001b[0;34m\u001b[0m\u001b[0;34m\u001b[0m\u001b[0m\n",
      "\u001b[0;31mValueError\u001b[0m: Can only compare identically-labeled DataFrame objects"
     ]
    }
   ],
   "source": [
    "# TOP 13 RMSE with dimensionality reduction\n",
    "smallest = df.nsmallest(13, \"rmse\")\n",
    "smallest_with_other_dim = df[df.loc[:, [\"feature_combinations\", \"in_study\"]] == smallest.loc[:, [\"feature_combinations\", \"in_study\"] ] ]\n",
    "ax = smallest.loc[:,\"rmse\"].plot(kind=\"bar\", use_index=False)\n",
    "ax.set_xticks(range(len(smallest)))\n",
    "ax.set_xticklabels(smallest[\"dimensionality_reduction\"], rotation=90)"
   ]
  },
  {
   "cell_type": "code",
   "execution_count": 284,
   "id": "91c54db2",
   "metadata": {},
   "outputs": [
    {
     "data": {
      "text/plain": [
       "[Text(0, 0, 'pupil_diameter'),\n",
       " Text(1, 0, 'all'),\n",
       " Text(2, 0, 'heatmaps'),\n",
       " Text(3, 0, 'all'),\n",
       " Text(4, 0, 'Arma'),\n",
       " Text(5, 0, 'saccade_length'),\n",
       " Text(6, 0, 'heatmaps'),\n",
       " Text(7, 0, 'fft'),\n",
       " Text(8, 0, 'eye_tracking'),\n",
       " Text(9, 0, 'saccade_duration'),\n",
       " Text(10, 0, 'garch'),\n",
       " Text(11, 0, 'heatmaps'),\n",
       " Text(12, 0, 'fft'),\n",
       " Text(13, 0, 'heatmaps'),\n",
       " Text(14, 0, 'eye_tracking'),\n",
       " Text(15, 0, 'markov'),\n",
       " Text(16, 0, 'garch'),\n",
       " Text(17, 0, 'garch'),\n",
       " Text(18, 0, 'eye_tracking'),\n",
       " Text(19, 0, 'eye_tracking'),\n",
       " Text(20, 0, 'pupil_diameter'),\n",
       " Text(21, 0, 'saccade_length'),\n",
       " Text(22, 0, 'pupil_diameter'),\n",
       " Text(23, 0, 'markov'),\n",
       " Text(24, 0, 'fft'),\n",
       " Text(25, 0, 'markov')]"
      ]
     },
     "execution_count": 284,
     "metadata": {},
     "output_type": "execute_result"
    },
    {
     "data": {
      "image/png": "[encoded data removed]",
      "text/plain": [
       "<Figure size 432x288 with 1 Axes>"
      ]
     },
     "metadata": {
      "needs_background": "light"
     },
     "output_type": "display_data"
    }
   ],
   "source": [
    "# TOP 13 RMSE with for one to one and \n",
    "smallest = df.nsmallest(13, \"rmse\")\n",
    "smallest = smallest.reset_index()\n",
    "smallest.index = 2*smallest.index +1\n",
    "smallest_oto = one_to_one_df.nsmallest(13, \"rmse\")\n",
    "smallest_oto = smallest_oto.reset_index()\n",
    "smallest_oto.index = 2*smallest_oto.index\n",
    "smallest = pd.concat([smallest, smallest_oto]).sort_index()\n",
    "\n",
    "\n",
    "ax = smallest.loc[:,\"rmse\"].plot(kind=\"bar\", color=['blue','red'], use_index=True)\n",
    "ax.legend({\"blue\": \"1t1\", \"red\": \"2to1\"})\n",
    "ax.set_xticks(range(len(smallest)))\n",
    "ax.set_xticklabels(smallest[\"feature_combinations\"], rotation=90)"
   ]
  },
  {
   "cell_type": "code",
   "execution_count": 161,
   "id": "d04a2015",
   "metadata": {},
   "outputs": [
    {
     "data": {
      "text/plain": [
       "array([\"['fractions', 'cscw']\", \"['emip', 'fractions']\",\n",
       "       \"['emip', 'cscw']\"], dtype=object)"
      ]
     },
     "execution_count": 161,
     "metadata": {},
     "output_type": "execute_result"
    }
   ],
   "source": [
    "df.loc[:, \"in_study\"].unique()"
   ]
  },
  {
   "cell_type": "code",
   "execution_count": null,
   "id": "9bec6389",
   "metadata": {},
   "outputs": [],
   "source": [
    "smallest = df.nsmallest(13, \"rmse\")\n",
    "\n",
    "ax = smallest.loc[:,\"rmse\"].plot(kind=\"bar\", use_index=False)\n",
    "ax.set_xticks(range(len(smallest)))\n",
    "ax.set_xticklabels(smallest[\"dimensionality_reduction\"], rotation=90)"
   ]
  }
 ],
 "metadata": {
  "kernelspec": {
   "display_name": "Python 3",
   "language": "python",
   "name": "python3"
  },
  "language_info": {
   "codemirror_mode": {
    "name": "ipython",
    "version": 3
   },
   "file_extension": ".py",
   "mimetype": "text/x-python",
   "name": "python",
   "nbconvert_exporter": "python",
   "pygments_lexer": "ipython3",
   "version": "3.7.9"
  }
 },
 "nbformat": 4,
 "nbformat_minor": 5
}
