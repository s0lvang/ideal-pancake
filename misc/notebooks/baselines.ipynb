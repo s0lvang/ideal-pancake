{
 "cells": [
  {
   "cell_type": "code",
   "execution_count": 113,
   "id": "083e31e3",
   "metadata": {},
   "outputs": [],
   "source": [
    "import pandas as pd\n",
    "import math\n",
    "from sklearn.metrics import mean_squared_error\n",
    "from random import uniform, seed\n",
    "seed(42069)"
   ]
  },
  {
   "cell_type": "code",
   "execution_count": 114,
   "id": "34c7a043",
   "metadata": {},
   "outputs": [],
   "source": [
    "emip_metadata = pd.read_csv(\"../../datasets/emip-fixations/metadata/emip_metadata.csv\")\n",
    "cscw_metadata = pd.read_csv(\"../../datasets/cscw/metadata/CSCW - Sheet1.csv\", sep=\";\")\n",
    "fractions_metadata = pd.read_csv(\"../../datasets/fractions/metadata/DataSet_PrePost.csv\")"
   ]
  },
  {
   "cell_type": "code",
   "execution_count": 115,
   "id": "0c523342",
   "metadata": {},
   "outputs": [],
   "source": [
    "emip_labels = emip_metadata[\"correct_vehicle\"] + emip_metadata[\"correct_rectangle\"]\n",
    "cscw_labels = cscw_metadata[\"Posttest.Score\"]\n",
    "fractions_labels = fractions_metadata[\"Post_SumOfCorrect_NewSum\"]"
   ]
  },
  {
   "cell_type": "code",
   "execution_count": 116,
   "id": "ff84649d",
   "metadata": {},
   "outputs": [],
   "source": [
    "emip_labels = (emip_labels-emip_labels.min())/(emip_labels.max()-emip_labels.min())\n",
    "cscw_labels = (cscw_labels-cscw_labels.min())/(cscw_labels.max()-cscw_labels.min())\n",
    "fractions_labels = (fractions_labels-fractions_labels.min())/(fractions_labels.max()-fractions_labels.min())"
   ]
  },
  {
   "cell_type": "code",
   "execution_count": 117,
   "id": "7e209484",
   "metadata": {},
   "outputs": [],
   "source": [
    "def get_baseline(labels):\n",
    "    error = labels - labels.mean()\n",
    "    error_squared = (error**2).mean()\n",
    "    baseline = math.sqrt(error_squared)\n",
    "    return baseline\n",
    "\n",
    "def get_random_prediction(labels):\n",
    "    prediction = [uniform(0, 1) for i in labels]\n",
    "    rmse_baseline = mean_squared_error(labels, prediction, squared=False)\n",
    "    return rmse_baseline\n",
    "\n",
    "def get_baseline(labels):\n",
    "    rmses = [get_random_prediction(labels) for i in range(1000)]\n",
    "    return sum(rmses)/len(rmses)"
   ]
  },
  {
   "cell_type": "code",
   "execution_count": 118,
   "id": "069ac027",
   "metadata": {},
   "outputs": [
    {
     "name": "stdout",
     "output_type": "stream",
     "text": [
      "0.35388904448897335 CSCW baseline\n",
      "0.424636036995045 EMIP baseline\n",
      "0.39366298809771244 Fractions labels\n",
      "0.416377979296539 fractions and emip baseline\n",
      "0.37585405622572404 fractions and cscw baseline\n",
      "0.40853019640189875 cscw and emip baseline\n",
      "0.40540125832240065 fractions, cscw and emip baseline\n"
     ]
    }
   ],
   "source": [
    "print(get_baseline(cscw_labels), \"CSCW baseline\")\n",
    "print(get_baseline(emip_labels), \"EMIP baseline\")\n",
    "print(get_baseline(fractions_labels), \"Fractions labels\")\n",
    "print(get_baseline(pd.concat((emip_labels, fractions_labels))), \"fractions and emip baseline\")\n",
    "print(get_baseline(pd.concat((cscw_labels, fractions_labels))), \"fractions and cscw baseline\")\n",
    "print(get_baseline(pd.concat((emip_labels, cscw_labels))), \"cscw and emip baseline\")\n",
    "print(get_baseline(pd.concat((emip_labels, cscw_labels, fractions_labels))), \"fractions, cscw and emip baseline\")"
   ]
  },
  {
   "cell_type": "code",
   "execution_count": 119,
   "id": "ab3cbc63",
   "metadata": {},
   "outputs": [],
   "source": [
    "errors = {\n",
    "    \"cscw\": get_baseline(cscw_labels),\n",
    "    \"emip\": get_baseline(emip_labels),\n",
    "    \"fractions\": get_baseline(fractions_labels),\n",
    "    \"emip_fractions\": get_baseline(pd.concat((emip_labels, fractions_labels))),\n",
    "    \"fractions_cscw\": get_baseline(pd.concat((cscw_labels, fractions_labels))),\n",
    "    \"emip_cscw\": get_baseline(pd.concat((emip_labels, cscw_labels)))\n",
    "}"
   ]
  },
  {
   "cell_type": "code",
   "execution_count": 120,
   "id": "cc5e9da3",
   "metadata": {
    "scrolled": true
   },
   "outputs": [
    {
     "data": {
      "text/plain": [
       "{'cscw': 0.35408194888273653,\n",
       " 'emip': 0.4241358322246148,\n",
       " 'fractions': 0.39295164906188074,\n",
       " 'emip_fractions': 0.4170846635199361,\n",
       " 'fractions_cscw': 0.37619048780763514,\n",
       " 'emip_cscw': 0.40841293420269603}"
      ]
     },
     "execution_count": 120,
     "metadata": {},
     "output_type": "execute_result"
    }
   ],
   "source": [
    "errors"
   ]
  },
  {
   "cell_type": "code",
   "execution_count": null,
   "id": "9964f82c",
   "metadata": {},
   "outputs": [],
   "source": []
  },
  {
   "cell_type": "code",
   "execution_count": null,
   "id": "661001f9",
   "metadata": {},
   "outputs": [],
   "source": []
  }
 ],
 "metadata": {
  "kernelspec": {
   "display_name": "Python 3",
   "language": "python",
   "name": "python3"
  },
  "language_info": {
   "codemirror_mode": {
    "name": "ipython",
    "version": 3
   },
   "file_extension": ".py",
   "mimetype": "text/x-python",
   "name": "python",
   "nbconvert_exporter": "python",
   "pygments_lexer": "ipython3",
   "version": "3.7.9"
  }
 },
 "nbformat": 4,
 "nbformat_minor": 5
}
