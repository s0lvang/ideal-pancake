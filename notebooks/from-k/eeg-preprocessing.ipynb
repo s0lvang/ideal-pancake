{
 "cells": [
  {
   "cell_type": "code",
   "execution_count": 11,
   "metadata": {},
   "outputs": [],
   "source": [
    "import pandas as pd \n",
    "import numpy as np\n",
    "import matplotlib.pyplot as plt\n",
    "import scipy as sp\n",
    "import scipy.fftpack\n",
    "from statsmodels.tsa.arima.model import ARIMA\n",
    "from sklearn.metrics import mean_squared_error"
   ]
  },
  {
   "cell_type": "code",
   "execution_count": 12,
   "metadata": {
    "scrolled": true
   },
   "outputs": [
    {
     "data": {
      "text/html": [
       "<div>\n",
       "<style scoped>\n",
       "    .dataframe tbody tr th:only-of-type {\n",
       "        vertical-align: middle;\n",
       "    }\n",
       "\n",
       "    .dataframe tbody tr th {\n",
       "        vertical-align: top;\n",
       "    }\n",
       "\n",
       "    .dataframe thead th {\n",
       "        text-align: right;\n",
       "    }\n",
       "</style>\n",
       "<table border=\"1\" class=\"dataframe\">\n",
       "  <thead>\n",
       "    <tr style=\"text-align: right;\">\n",
       "      <th></th>\n",
       "      <th>P7</th>\n",
       "      <th>P4</th>\n",
       "      <th>Cz</th>\n",
       "      <th>Pz</th>\n",
       "      <th>P3</th>\n",
       "      <th>P8</th>\n",
       "      <th>O1</th>\n",
       "      <th>O2</th>\n",
       "      <th>T8</th>\n",
       "      <th>F8</th>\n",
       "      <th>C4</th>\n",
       "      <th>F4</th>\n",
       "      <th>Fz</th>\n",
       "      <th>C3</th>\n",
       "      <th>F3</th>\n",
       "      <th>T7</th>\n",
       "      <th>F7</th>\n",
       "      <th>time</th>\n",
       "    </tr>\n",
       "  </thead>\n",
       "  <tbody>\n",
       "    <tr>\n",
       "      <th>0</th>\n",
       "      <td>-11254952</td>\n",
       "      <td>30495862</td>\n",
       "      <td>11319807</td>\n",
       "      <td>72731904</td>\n",
       "      <td>43899185</td>\n",
       "      <td>4891972</td>\n",
       "      <td>25779773</td>\n",
       "      <td>1680708</td>\n",
       "      <td>20743722</td>\n",
       "      <td>37207976</td>\n",
       "      <td>20308773</td>\n",
       "      <td>40423000</td>\n",
       "      <td>35259699</td>\n",
       "      <td>-400000047</td>\n",
       "      <td>21398852</td>\n",
       "      <td>-17949480</td>\n",
       "      <td>20976181</td>\n",
       "      <td>1.535627e+12</td>\n",
       "    </tr>\n",
       "    <tr>\n",
       "      <th>1</th>\n",
       "      <td>-11255031</td>\n",
       "      <td>30494362</td>\n",
       "      <td>11320033</td>\n",
       "      <td>72730763</td>\n",
       "      <td>43898897</td>\n",
       "      <td>4891936</td>\n",
       "      <td>25777034</td>\n",
       "      <td>1680516</td>\n",
       "      <td>20742914</td>\n",
       "      <td>37205421</td>\n",
       "      <td>20307657</td>\n",
       "      <td>40420656</td>\n",
       "      <td>35257460</td>\n",
       "      <td>-400000047</td>\n",
       "      <td>21396945</td>\n",
       "      <td>-17950437</td>\n",
       "      <td>20974452</td>\n",
       "      <td>1.535627e+12</td>\n",
       "    </tr>\n",
       "    <tr>\n",
       "      <th>2</th>\n",
       "      <td>-11251443</td>\n",
       "      <td>30499042</td>\n",
       "      <td>11324859</td>\n",
       "      <td>72737041</td>\n",
       "      <td>43903810</td>\n",
       "      <td>4897398</td>\n",
       "      <td>25783658</td>\n",
       "      <td>1684883</td>\n",
       "      <td>20747967</td>\n",
       "      <td>37210296</td>\n",
       "      <td>20310366</td>\n",
       "      <td>40423798</td>\n",
       "      <td>35260730</td>\n",
       "      <td>-400000047</td>\n",
       "      <td>21399379</td>\n",
       "      <td>-17946928</td>\n",
       "      <td>20978164</td>\n",
       "      <td>1.535627e+12</td>\n",
       "    </tr>\n",
       "    <tr>\n",
       "      <th>3</th>\n",
       "      <td>-11257843</td>\n",
       "      <td>30493954</td>\n",
       "      <td>11319837</td>\n",
       "      <td>72732610</td>\n",
       "      <td>43898489</td>\n",
       "      <td>4893021</td>\n",
       "      <td>25778208</td>\n",
       "      <td>1679600</td>\n",
       "      <td>20742842</td>\n",
       "      <td>37204687</td>\n",
       "      <td>20305874</td>\n",
       "      <td>40417231</td>\n",
       "      <td>35254766</td>\n",
       "      <td>-400000047</td>\n",
       "      <td>21392484</td>\n",
       "      <td>-17954941</td>\n",
       "      <td>20971092</td>\n",
       "      <td>1.535627e+12</td>\n",
       "    </tr>\n",
       "    <tr>\n",
       "      <th>4</th>\n",
       "      <td>-11259273</td>\n",
       "      <td>30495027</td>\n",
       "      <td>11321271</td>\n",
       "      <td>72733970</td>\n",
       "      <td>43897945</td>\n",
       "      <td>4893644</td>\n",
       "      <td>25776749</td>\n",
       "      <td>1679298</td>\n",
       "      <td>20743923</td>\n",
       "      <td>37204569</td>\n",
       "      <td>20305633</td>\n",
       "      <td>40416733</td>\n",
       "      <td>35252675</td>\n",
       "      <td>-400000047</td>\n",
       "      <td>21392377</td>\n",
       "      <td>-17955492</td>\n",
       "      <td>20969137</td>\n",
       "      <td>1.535627e+12</td>\n",
       "    </tr>\n",
       "  </tbody>\n",
       "</table>\n",
       "</div>"
      ],
      "text/plain": [
       "         P7        P4        Cz        Pz        P3       P8        O1  \\\n",
       "0 -11254952  30495862  11319807  72731904  43899185  4891972  25779773   \n",
       "1 -11255031  30494362  11320033  72730763  43898897  4891936  25777034   \n",
       "2 -11251443  30499042  11324859  72737041  43903810  4897398  25783658   \n",
       "3 -11257843  30493954  11319837  72732610  43898489  4893021  25778208   \n",
       "4 -11259273  30495027  11321271  72733970  43897945  4893644  25776749   \n",
       "\n",
       "        O2        T8        F8        C4        F4        Fz         C3  \\\n",
       "0  1680708  20743722  37207976  20308773  40423000  35259699 -400000047   \n",
       "1  1680516  20742914  37205421  20307657  40420656  35257460 -400000047   \n",
       "2  1684883  20747967  37210296  20310366  40423798  35260730 -400000047   \n",
       "3  1679600  20742842  37204687  20305874  40417231  35254766 -400000047   \n",
       "4  1679298  20743923  37204569  20305633  40416733  35252675 -400000047   \n",
       "\n",
       "         F3        T7        F7          time  \n",
       "0  21398852 -17949480  20976181  1.535627e+12  \n",
       "1  21396945 -17950437  20974452  1.535627e+12  \n",
       "2  21399379 -17946928  20978164  1.535627e+12  \n",
       "3  21392484 -17954941  20971092  1.535627e+12  \n",
       "4  21392377 -17955492  20969137  1.535627e+12  "
      ]
     },
     "execution_count": 12,
     "metadata": {},
     "output_type": "execute_result"
    }
   ],
   "source": [
    "data = pd.read_csv(\"./EEG-dummy-data.csv\") \n",
    "data.head()\n"
   ]
  },
  {
   "cell_type": "code",
   "execution_count": 13,
   "metadata": {},
   "outputs": [
    {
     "data": {
      "text/html": [
       "<div>\n",
       "<style scoped>\n",
       "    .dataframe tbody tr th:only-of-type {\n",
       "        vertical-align: middle;\n",
       "    }\n",
       "\n",
       "    .dataframe tbody tr th {\n",
       "        vertical-align: top;\n",
       "    }\n",
       "\n",
       "    .dataframe thead th {\n",
       "        text-align: right;\n",
       "    }\n",
       "</style>\n",
       "<table border=\"1\" class=\"dataframe\">\n",
       "  <thead>\n",
       "    <tr style=\"text-align: right;\">\n",
       "      <th></th>\n",
       "      <th>P7</th>\n",
       "      <th>P4</th>\n",
       "      <th>Cz</th>\n",
       "      <th>Pz</th>\n",
       "      <th>P3</th>\n",
       "      <th>P8</th>\n",
       "      <th>O1</th>\n",
       "      <th>O2</th>\n",
       "      <th>T8</th>\n",
       "      <th>F8</th>\n",
       "      <th>C4</th>\n",
       "      <th>F4</th>\n",
       "      <th>Fz</th>\n",
       "      <th>C3</th>\n",
       "      <th>F3</th>\n",
       "      <th>T7</th>\n",
       "      <th>F7</th>\n",
       "      <th>time</th>\n",
       "      <th>pandas_SMA</th>\n",
       "    </tr>\n",
       "  </thead>\n",
       "  <tbody>\n",
       "    <tr>\n",
       "      <th>0</th>\n",
       "      <td>-11254952</td>\n",
       "      <td>30495862</td>\n",
       "      <td>11319807</td>\n",
       "      <td>72731904</td>\n",
       "      <td>43899185</td>\n",
       "      <td>4891972</td>\n",
       "      <td>25779773</td>\n",
       "      <td>1680708</td>\n",
       "      <td>20743722</td>\n",
       "      <td>37207976</td>\n",
       "      <td>20308773</td>\n",
       "      <td>40423000</td>\n",
       "      <td>35259699</td>\n",
       "      <td>-400000047</td>\n",
       "      <td>21398852</td>\n",
       "      <td>-17949480</td>\n",
       "      <td>20976181</td>\n",
       "      <td>1.535627e+12</td>\n",
       "      <td>NaN</td>\n",
       "    </tr>\n",
       "    <tr>\n",
       "      <th>1</th>\n",
       "      <td>-11255031</td>\n",
       "      <td>30494362</td>\n",
       "      <td>11320033</td>\n",
       "      <td>72730763</td>\n",
       "      <td>43898897</td>\n",
       "      <td>4891936</td>\n",
       "      <td>25777034</td>\n",
       "      <td>1680516</td>\n",
       "      <td>20742914</td>\n",
       "      <td>37205421</td>\n",
       "      <td>20307657</td>\n",
       "      <td>40420656</td>\n",
       "      <td>35257460</td>\n",
       "      <td>-400000047</td>\n",
       "      <td>21396945</td>\n",
       "      <td>-17950437</td>\n",
       "      <td>20974452</td>\n",
       "      <td>1.535627e+12</td>\n",
       "      <td>NaN</td>\n",
       "    </tr>\n",
       "    <tr>\n",
       "      <th>2</th>\n",
       "      <td>-11251443</td>\n",
       "      <td>30499042</td>\n",
       "      <td>11324859</td>\n",
       "      <td>72737041</td>\n",
       "      <td>43903810</td>\n",
       "      <td>4897398</td>\n",
       "      <td>25783658</td>\n",
       "      <td>1684883</td>\n",
       "      <td>20747967</td>\n",
       "      <td>37210296</td>\n",
       "      <td>20310366</td>\n",
       "      <td>40423798</td>\n",
       "      <td>35260730</td>\n",
       "      <td>-400000047</td>\n",
       "      <td>21399379</td>\n",
       "      <td>-17946928</td>\n",
       "      <td>20978164</td>\n",
       "      <td>1.535627e+12</td>\n",
       "      <td>NaN</td>\n",
       "    </tr>\n",
       "    <tr>\n",
       "      <th>3</th>\n",
       "      <td>-11257843</td>\n",
       "      <td>30493954</td>\n",
       "      <td>11319837</td>\n",
       "      <td>72732610</td>\n",
       "      <td>43898489</td>\n",
       "      <td>4893021</td>\n",
       "      <td>25778208</td>\n",
       "      <td>1679600</td>\n",
       "      <td>20742842</td>\n",
       "      <td>37204687</td>\n",
       "      <td>20305874</td>\n",
       "      <td>40417231</td>\n",
       "      <td>35254766</td>\n",
       "      <td>-400000047</td>\n",
       "      <td>21392484</td>\n",
       "      <td>-17954941</td>\n",
       "      <td>20971092</td>\n",
       "      <td>1.535627e+12</td>\n",
       "      <td>NaN</td>\n",
       "    </tr>\n",
       "    <tr>\n",
       "      <th>4</th>\n",
       "      <td>-11259273</td>\n",
       "      <td>30495027</td>\n",
       "      <td>11321271</td>\n",
       "      <td>72733970</td>\n",
       "      <td>43897945</td>\n",
       "      <td>4893644</td>\n",
       "      <td>25776749</td>\n",
       "      <td>1679298</td>\n",
       "      <td>20743923</td>\n",
       "      <td>37204569</td>\n",
       "      <td>20305633</td>\n",
       "      <td>40416733</td>\n",
       "      <td>35252675</td>\n",
       "      <td>-400000047</td>\n",
       "      <td>21392377</td>\n",
       "      <td>-17955492</td>\n",
       "      <td>20969137</td>\n",
       "      <td>1.535627e+12</td>\n",
       "      <td>NaN</td>\n",
       "    </tr>\n",
       "  </tbody>\n",
       "</table>\n",
       "</div>"
      ],
      "text/plain": [
       "         P7        P4        Cz        Pz        P3       P8        O1  \\\n",
       "0 -11254952  30495862  11319807  72731904  43899185  4891972  25779773   \n",
       "1 -11255031  30494362  11320033  72730763  43898897  4891936  25777034   \n",
       "2 -11251443  30499042  11324859  72737041  43903810  4897398  25783658   \n",
       "3 -11257843  30493954  11319837  72732610  43898489  4893021  25778208   \n",
       "4 -11259273  30495027  11321271  72733970  43897945  4893644  25776749   \n",
       "\n",
       "        O2        T8        F8        C4        F4        Fz         C3  \\\n",
       "0  1680708  20743722  37207976  20308773  40423000  35259699 -400000047   \n",
       "1  1680516  20742914  37205421  20307657  40420656  35257460 -400000047   \n",
       "2  1684883  20747967  37210296  20310366  40423798  35260730 -400000047   \n",
       "3  1679600  20742842  37204687  20305874  40417231  35254766 -400000047   \n",
       "4  1679298  20743923  37204569  20305633  40416733  35252675 -400000047   \n",
       "\n",
       "         F3        T7        F7          time  pandas_SMA  \n",
       "0  21398852 -17949480  20976181  1.535627e+12         NaN  \n",
       "1  21396945 -17950437  20974452  1.535627e+12         NaN  \n",
       "2  21399379 -17946928  20978164  1.535627e+12         NaN  \n",
       "3  21392484 -17954941  20971092  1.535627e+12         NaN  \n",
       "4  21392377 -17955492  20969137  1.535627e+12         NaN  "
      ]
     },
     "execution_count": 13,
     "metadata": {},
     "output_type": "execute_result"
    }
   ],
   "source": [
    "data[\"pandas_SMA\"] = data[\"P3\"].rolling(window=25).mean()\n",
    "data.head()"
   ]
  },
  {
   "cell_type": "code",
   "execution_count": 14,
   "metadata": {},
   "outputs": [
    {
     "data": {
      "image/png": "[encoded data removed]",
      "text/plain": [
       "<Figure size 432x288 with 1 Axes>"
      ]
     },
     "metadata": {
      "needs_background": "light"
     },
     "output_type": "display_data"
    }
   ],
   "source": [
    "samples = 25\n",
    "\n",
    "p3 = data[\"P3\"] / 1e9\n",
    "\n",
    "\n",
    "movingAverageTS = p3.rolling(window=samples).mean()\n",
    "\n",
    "plt.figure()\n",
    "ax1 = p3.plot(color=\"blue\", label=\"p3\")\n",
    "ax2 = movingAverageTS.plot(color=\"red\", label=\"moving average\")\n",
    "\n",
    "h1, l1 = ax1.get_legend_handles_labels()\n",
    "h2, l2 = ax2.get_legend_handles_labels()\n",
    "\n",
    "plt.legend(h1+h2, l1+l2, loc=2)\n",
    "ax1.set_ylim(0.02, 0.08)\n",
    "ax2.set_ylim(0.02, 0.08)\n",
    "plt.show()\n",
    "\n",
    "#movingAverageTS.plot()\n"
   ]
  },
  {
   "cell_type": "code",
   "execution_count": 15,
   "metadata": {},
   "outputs": [
    {
     "data": {
      "text/plain": [
       "0    0.043899\n",
       "1    0.043899\n",
       "2    0.043904\n",
       "3    0.043898\n",
       "4    0.043898\n",
       "Name: P3, dtype: float64"
      ]
     },
     "execution_count": 15,
     "metadata": {},
     "output_type": "execute_result"
    }
   ],
   "source": [
    "p3.head()"
   ]
  },
  {
   "cell_type": "code",
   "execution_count": 16,
   "metadata": {},
   "outputs": [
    {
     "name": "stderr",
     "output_type": "stream",
     "text": [
      "/Users/aslak/Library/Caches/pypoetry/virtualenvs/ideal-pancake-LPxB82nx-py3.8/lib/python3.8/site-packages/numpy/core/_asarray.py:83: ComplexWarning: Casting complex values to real discards the imaginary part\n",
      "  return array(a, dtype, copy=False, order=order)\n"
     ]
    },
    {
     "data": {
      "image/png": "[encoded data removed]",
      "text/plain": [
       "<Figure size 432x288 with 1 Axes>"
      ]
     },
     "metadata": {
      "needs_background": "light"
     },
     "output_type": "display_data"
    }
   ],
   "source": [
    "p3_np = p3.to_numpy()\n",
    "fft_of_example = sp.fftpack.fft(p3_np)\n",
    "\n",
    "x_axis = np.array(range(0, 500))\n",
    "\n",
    "plt.plot(x_axis, fft_of_example[0:500])\n",
    "plt.grid()\n",
    "plt.show()\n"
   ]
  },
  {
   "cell_type": "code",
   "execution_count": 17,
   "metadata": {},
   "outputs": [
    {
     "name": "stderr",
     "output_type": "stream",
     "text": [
      "/Users/aslak/Library/Caches/pypoetry/virtualenvs/ideal-pancake-LPxB82nx-py3.8/lib/python3.8/site-packages/numpy/core/_asarray.py:83: ComplexWarning: Casting complex values to real discards the imaginary part\n",
      "  return array(a, dtype, copy=False, order=order)\n"
     ]
    },
    {
     "data": {
      "image/png": "[encoded data removed]",
      "text/plain": [
       "<Figure size 432x288 with 1 Axes>"
      ]
     },
     "metadata": {
      "needs_background": "light"
     },
     "output_type": "display_data"
    }
   ],
   "source": [
    "inverse_fft_of_example = sp.fftpack.ifft(fft_of_example)\n",
    "\n",
    "plt.plot(x_axis, inverse_fft_of_example[0:500])\n",
    "plt.grid()\n",
    "plt.show()"
   ]
  },
  {
   "cell_type": "code",
   "execution_count": 18,
   "metadata": {},
   "outputs": [],
   "source": [
    "#ARIMA\n",
    "#import warnings\n",
    "#warnings.filterwarnings(\"ignore\")\n",
    "\n",
    "from sklearn.model_selection import train_test_split\n",
    "\n",
    "train, test = train_test_split(p3, test_size=0.2)"
   ]
  },
  {
   "cell_type": "code",
   "execution_count": 19,
   "metadata": {},
   "outputs": [
    {
     "data": {
      "text/plain": [
       "[(0, 0, 0),\n",
       " (0, 0, 1),\n",
       " (0, 1, 0),\n",
       " (0, 1, 1),\n",
       " (1, 0, 0),\n",
       " (1, 0, 1),\n",
       " (1, 1, 0),\n",
       " (1, 1, 1)]"
      ]
     },
     "execution_count": 19,
     "metadata": {},
     "output_type": "execute_result"
    }
   ],
   "source": [
    "import itertools\n",
    "p=d=q=range(0, 2)\n",
    "pdq=list(itertools.product(p,d,q))\n",
    "pdq"
   ]
  },
  {
   "cell_type": "code",
   "execution_count": 20,
   "metadata": {},
   "outputs": [
    {
     "name": "stderr",
     "output_type": "stream",
     "text": [
      "/Users/aslak/Library/Caches/pypoetry/virtualenvs/ideal-pancake-LPxB82nx-py3.8/lib/python3.8/site-packages/statsmodels/tsa/base/tsa_model.py:578: ValueWarning: An unsupported index was provided and will be ignored when e.g. forecasting.\n",
      "  warnings.warn('An unsupported index was provided and will be'\n",
      "/Users/aslak/Library/Caches/pypoetry/virtualenvs/ideal-pancake-LPxB82nx-py3.8/lib/python3.8/site-packages/statsmodels/tsa/base/tsa_model.py:578: ValueWarning: An unsupported index was provided and will be ignored when e.g. forecasting.\n",
      "  warnings.warn('An unsupported index was provided and will be'\n",
      "/Users/aslak/Library/Caches/pypoetry/virtualenvs/ideal-pancake-LPxB82nx-py3.8/lib/python3.8/site-packages/statsmodels/tsa/base/tsa_model.py:578: ValueWarning: An unsupported index was provided and will be ignored when e.g. forecasting.\n",
      "  warnings.warn('An unsupported index was provided and will be'\n"
     ]
    },
    {
     "name": "stdout",
     "output_type": "stream",
     "text": [
      "(0, 0, 0) -1787061.7215765852 new best fit\n"
     ]
    },
    {
     "name": "stderr",
     "output_type": "stream",
     "text": [
      "/Users/aslak/Library/Caches/pypoetry/virtualenvs/ideal-pancake-LPxB82nx-py3.8/lib/python3.8/site-packages/statsmodels/tsa/base/tsa_model.py:578: ValueWarning: An unsupported index was provided and will be ignored when e.g. forecasting.\n",
      "  warnings.warn('An unsupported index was provided and will be'\n",
      "/Users/aslak/Library/Caches/pypoetry/virtualenvs/ideal-pancake-LPxB82nx-py3.8/lib/python3.8/site-packages/statsmodels/tsa/base/tsa_model.py:578: ValueWarning: An unsupported index was provided and will be ignored when e.g. forecasting.\n",
      "  warnings.warn('An unsupported index was provided and will be'\n",
      "/Users/aslak/Library/Caches/pypoetry/virtualenvs/ideal-pancake-LPxB82nx-py3.8/lib/python3.8/site-packages/statsmodels/tsa/base/tsa_model.py:578: ValueWarning: An unsupported index was provided and will be ignored when e.g. forecasting.\n",
      "  warnings.warn('An unsupported index was provided and will be'\n"
     ]
    },
    {
     "name": "stdout",
     "output_type": "stream",
     "text": [
      "(0, 0, 1) -1787062.2421269282 new best fit\n"
     ]
    },
    {
     "name": "stderr",
     "output_type": "stream",
     "text": [
      "/Users/aslak/Library/Caches/pypoetry/virtualenvs/ideal-pancake-LPxB82nx-py3.8/lib/python3.8/site-packages/statsmodels/tsa/base/tsa_model.py:578: ValueWarning: An unsupported index was provided and will be ignored when e.g. forecasting.\n",
      "  warnings.warn('An unsupported index was provided and will be'\n",
      "/Users/aslak/Library/Caches/pypoetry/virtualenvs/ideal-pancake-LPxB82nx-py3.8/lib/python3.8/site-packages/statsmodels/tsa/base/tsa_model.py:578: ValueWarning: An unsupported index was provided and will be ignored when e.g. forecasting.\n",
      "  warnings.warn('An unsupported index was provided and will be'\n",
      "/Users/aslak/Library/Caches/pypoetry/virtualenvs/ideal-pancake-LPxB82nx-py3.8/lib/python3.8/site-packages/statsmodels/tsa/base/tsa_model.py:578: ValueWarning: An unsupported index was provided and will be ignored when e.g. forecasting.\n",
      "  warnings.warn('An unsupported index was provided and will be'\n"
     ]
    },
    {
     "name": "stdout",
     "output_type": "stream",
     "text": [
      "(0, 1, 0) -1482662.1999082312\n"
     ]
    },
    {
     "name": "stderr",
     "output_type": "stream",
     "text": [
      "/Users/aslak/Library/Caches/pypoetry/virtualenvs/ideal-pancake-LPxB82nx-py3.8/lib/python3.8/site-packages/statsmodels/tsa/base/tsa_model.py:578: ValueWarning: An unsupported index was provided and will be ignored when e.g. forecasting.\n",
      "  warnings.warn('An unsupported index was provided and will be'\n",
      "/Users/aslak/Library/Caches/pypoetry/virtualenvs/ideal-pancake-LPxB82nx-py3.8/lib/python3.8/site-packages/statsmodels/tsa/base/tsa_model.py:578: ValueWarning: An unsupported index was provided and will be ignored when e.g. forecasting.\n",
      "  warnings.warn('An unsupported index was provided and will be'\n",
      "/Users/aslak/Library/Caches/pypoetry/virtualenvs/ideal-pancake-LPxB82nx-py3.8/lib/python3.8/site-packages/statsmodels/tsa/base/tsa_model.py:578: ValueWarning: An unsupported index was provided and will be ignored when e.g. forecasting.\n",
      "  warnings.warn('An unsupported index was provided and will be'\n"
     ]
    },
    {
     "name": "stdout",
     "output_type": "stream",
     "text": [
      "(0, 1, 1) -1786943.852073803\n"
     ]
    },
    {
     "name": "stderr",
     "output_type": "stream",
     "text": [
      "/Users/aslak/Library/Caches/pypoetry/virtualenvs/ideal-pancake-LPxB82nx-py3.8/lib/python3.8/site-packages/statsmodels/tsa/base/tsa_model.py:578: ValueWarning: An unsupported index was provided and will be ignored when e.g. forecasting.\n",
      "  warnings.warn('An unsupported index was provided and will be'\n",
      "/Users/aslak/Library/Caches/pypoetry/virtualenvs/ideal-pancake-LPxB82nx-py3.8/lib/python3.8/site-packages/statsmodels/tsa/base/tsa_model.py:578: ValueWarning: An unsupported index was provided and will be ignored when e.g. forecasting.\n",
      "  warnings.warn('An unsupported index was provided and will be'\n",
      "/Users/aslak/Library/Caches/pypoetry/virtualenvs/ideal-pancake-LPxB82nx-py3.8/lib/python3.8/site-packages/statsmodels/tsa/base/tsa_model.py:578: ValueWarning: An unsupported index was provided and will be ignored when e.g. forecasting.\n",
      "  warnings.warn('An unsupported index was provided and will be'\n"
     ]
    },
    {
     "name": "stdout",
     "output_type": "stream",
     "text": [
      "(1, 0, 0) -1787062.2319503385\n"
     ]
    },
    {
     "name": "stderr",
     "output_type": "stream",
     "text": [
      "/Users/aslak/Library/Caches/pypoetry/virtualenvs/ideal-pancake-LPxB82nx-py3.8/lib/python3.8/site-packages/statsmodels/tsa/base/tsa_model.py:578: ValueWarning: An unsupported index was provided and will be ignored when e.g. forecasting.\n",
      "  warnings.warn('An unsupported index was provided and will be'\n",
      "/Users/aslak/Library/Caches/pypoetry/virtualenvs/ideal-pancake-LPxB82nx-py3.8/lib/python3.8/site-packages/statsmodels/tsa/base/tsa_model.py:578: ValueWarning: An unsupported index was provided and will be ignored when e.g. forecasting.\n",
      "  warnings.warn('An unsupported index was provided and will be'\n",
      "/Users/aslak/Library/Caches/pypoetry/virtualenvs/ideal-pancake-LPxB82nx-py3.8/lib/python3.8/site-packages/statsmodels/tsa/base/tsa_model.py:578: ValueWarning: An unsupported index was provided and will be ignored when e.g. forecasting.\n",
      "  warnings.warn('An unsupported index was provided and will be'\n"
     ]
    },
    {
     "name": "stdout",
     "output_type": "stream",
     "text": [
      "(1, 0, 1) -1787060.7862430268\n"
     ]
    },
    {
     "name": "stderr",
     "output_type": "stream",
     "text": [
      "/Users/aslak/Library/Caches/pypoetry/virtualenvs/ideal-pancake-LPxB82nx-py3.8/lib/python3.8/site-packages/statsmodels/tsa/base/tsa_model.py:578: ValueWarning: An unsupported index was provided and will be ignored when e.g. forecasting.\n",
      "  warnings.warn('An unsupported index was provided and will be'\n",
      "/Users/aslak/Library/Caches/pypoetry/virtualenvs/ideal-pancake-LPxB82nx-py3.8/lib/python3.8/site-packages/statsmodels/tsa/base/tsa_model.py:578: ValueWarning: An unsupported index was provided and will be ignored when e.g. forecasting.\n",
      "  warnings.warn('An unsupported index was provided and will be'\n",
      "/Users/aslak/Library/Caches/pypoetry/virtualenvs/ideal-pancake-LPxB82nx-py3.8/lib/python3.8/site-packages/statsmodels/tsa/base/tsa_model.py:578: ValueWarning: An unsupported index was provided and will be ignored when e.g. forecasting.\n",
      "  warnings.warn('An unsupported index was provided and will be'\n"
     ]
    },
    {
     "name": "stdout",
     "output_type": "stream",
     "text": [
      "(1, 1, 0) -1608658.913604227\n"
     ]
    },
    {
     "name": "stderr",
     "output_type": "stream",
     "text": [
      "/Users/aslak/Library/Caches/pypoetry/virtualenvs/ideal-pancake-LPxB82nx-py3.8/lib/python3.8/site-packages/statsmodels/tsa/base/tsa_model.py:578: ValueWarning: An unsupported index was provided and will be ignored when e.g. forecasting.\n",
      "  warnings.warn('An unsupported index was provided and will be'\n",
      "/Users/aslak/Library/Caches/pypoetry/virtualenvs/ideal-pancake-LPxB82nx-py3.8/lib/python3.8/site-packages/statsmodels/tsa/base/tsa_model.py:578: ValueWarning: An unsupported index was provided and will be ignored when e.g. forecasting.\n",
      "  warnings.warn('An unsupported index was provided and will be'\n",
      "/Users/aslak/Library/Caches/pypoetry/virtualenvs/ideal-pancake-LPxB82nx-py3.8/lib/python3.8/site-packages/statsmodels/tsa/base/tsa_model.py:578: ValueWarning: An unsupported index was provided and will be ignored when e.g. forecasting.\n",
      "  warnings.warn('An unsupported index was provided and will be'\n",
      "/Users/aslak/Library/Caches/pypoetry/virtualenvs/ideal-pancake-LPxB82nx-py3.8/lib/python3.8/site-packages/statsmodels/base/model.py:566: ConvergenceWarning: Maximum Likelihood optimization failed to converge. Check mle_retvals\n",
      "  warnings.warn(\"Maximum Likelihood optimization failed to \"\n"
     ]
    },
    {
     "name": "stdout",
     "output_type": "stream",
     "text": [
      "(1, 1, 1) -1786944.837562919\n",
      "(0, 0, 1) -1787062.2421269282 Completed, best fit\n"
     ]
    }
   ],
   "source": [
    "import math\n",
    "\n",
    "best_param = (0,0,0)\n",
    "best_aic = math.inf\n",
    "for param in pdq:\n",
    "    try:\n",
    "        model_arima = ARIMA(train, order=param)\n",
    "        model_arima_fit = model_arima.fit()\n",
    "        aic = model_arima_fit.aic\n",
    "        if (aic < best_aic):\n",
    "            best_aic = aic\n",
    "            best_param = param\n",
    "            print(param, model_arima_fit.aic, \"new best fit\")\n",
    "        else:\n",
    "            print(param, model_arima_fit.aic)\n",
    "    except Exception as e:\n",
    "        print(e)\n",
    "        continue\n",
    "print(best_param, best_aic, \"Completed, best fit\")\n"
   ]
  },
  {
   "cell_type": "code",
   "execution_count": 27,
   "metadata": {},
   "outputs": [
    {
     "name": "stderr",
     "output_type": "stream",
     "text": [
      "/Users/aslak/Library/Caches/pypoetry/virtualenvs/ideal-pancake-LPxB82nx-py3.8/lib/python3.8/site-packages/arch/univariate/base.py:292: DataScaleWarning: y is poorly scaled, which may affect convergence of the optimizer when\n",
      "estimating the model parameters. The scale of y is 0.0009867. Parameter\n",
      "estimation work better when this value is between 1 and 1000. The recommended\n",
      "rescaling is 100 * y.\n",
      "\n",
      "This warning can be disabled by either rescaling y before initializing the\n",
      "model or by setting rescale=False.\n",
      "\n",
      "  warnings.warn(\n"
     ]
    },
    {
     "name": "stdout",
     "output_type": "stream",
     "text": [
      "Iteration:      1,   Func. Count:      6,   Neg. LLF: 608990651804.659\n",
      "Iteration:      2,   Func. Count:     20,   Neg. LLF: 1568693414300.9304\n",
      "Iteration:      3,   Func. Count:     35,   Neg. LLF: 4002190452.2202473\n",
      "Iteration:      4,   Func. Count:     49,   Neg. LLF: 2074371204.5688329\n",
      "Optimization terminated successfully    (Exit mode 0)\n",
      "            Current function value: -892475.5350688471\n",
      "            Iterations: 4\n",
      "            Function evaluations: 59\n",
      "            Gradient evaluations: 4\n"
     ]
    }
   ],
   "source": [
    "# GARCH \n",
    "from arch import arch_model\n",
    "\n",
    "garch = arch_model(train ,  vol='garch', p=1, o=0, q=1)\n",
    "garch_fitted = garch.fit()\n",
    "\n"
   ]
  },
  {
   "cell_type": "code",
   "execution_count": null,
   "metadata": {},
   "outputs": [],
   "source": []
  }
 ],
 "metadata": {
  "kernelspec": {
   "display_name": "Python 3",
   "language": "python",
   "name": "python3"
  },
  "language_info": {
   "codemirror_mode": {
    "name": "ipython",
    "version": 3
   },
   "file_extension": ".py",
   "mimetype": "text/x-python",
   "name": "python",
   "nbconvert_exporter": "python",
   "pygments_lexer": "ipython3",
   "version": "3.8.5"
  }
 },
 "nbformat": 4,
 "nbformat_minor": 4
}
