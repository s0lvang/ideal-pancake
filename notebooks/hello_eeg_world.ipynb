{
 "cells": [
  {
   "cell_type": "code",
   "execution_count": 116,
   "metadata": {
    "tags": []
   },
   "outputs": [],
   "source": [
    "from pyedflib import highlevel\n",
    "import os\n",
    "from os import listdir\n",
    "from os.path import isfile, join\n",
    "from pandas import read_csv\n",
    "from sklearn.ensemble import RandomForestClassifier as RandomForest\n",
    "from sklearn.model_selection import train_test_split\n",
    "from sklearn.metrics import classification_report \n",
    "import numpy as np"
   ]
  },
  {
   "cell_type": "code",
   "execution_count": 117,
   "metadata": {},
   "outputs": [],
   "source": [
    "eeg_arithmetic_directory = \"../datasets/eeg-during-mental-arithmetic-tasks\""
   ]
  },
  {
   "cell_type": "code",
   "execution_count": 118,
   "metadata": {},
   "outputs": [],
   "source": [
    "# The dataset contains recordings of the students while they were idle and when they were actively solving arithmentic tasks\n",
    "edf_files_background_eeg = [f for f in listdir(eeg_arithmetic_directory) if isfile(join(eeg_arithmentic_directory, f)) and f.endswith(\"_1.edf\")]\n",
    "edf_files_recorded_eeg = [f for f in listdir(eeg_arithmetic_directory) if isfile(join(eeg_arithmentic_directory, f)) and f.endswith(\"_2.edf\")]\n",
    "#data is on format filename: signals, signal_headers, header, remove suffix of the filename\n",
    "background_eeg = {file[:-6]: highlevel.read_edf(edf_file=join(eeg_arithmetic_directory, file)) for file in edf_files_background_eeg}\n",
    "recorded_eeg = {file[:-6]: highlevel.read_edf(edf_file=join(eeg_arithmetic_directory, file)) for file in edf_files_recorded_eeg}"
   ]
  },
  {
   "cell_type": "code",
   "execution_count": 119,
   "metadata": {},
   "outputs": [],
   "source": [
    "# Get labels from subjects\n",
    "subject_dataframe = read_csv(join(eeg_arithmetic_directory, \"subject-info.csv\"))\n",
    "labels= dict(zip(list(subject_dataframe[\"Subject\"]), list(subject_dataframe[\"Count quality\"])))"
   ]
  },
  {
   "cell_type": "code",
   "execution_count": 155,
   "metadata": {},
   "outputs": [
    {
     "name": "stdout",
     "output_type": "stream",
     "text": [
      "(36, 50)\n"
     ]
    }
   ],
   "source": [
    "#(24,21,31000)\n",
    "# (24, 31000)\n",
    "#(24, 50)\n",
    "# reshape to only use measurements from 1 electrode, and 50 samplings\n",
    "x = [np.array(recorded_eeg[subject][0])[1:2,0:50].reshape(-1) for subject in recorded_eeg.keys()]\n",
    "# Convert labels to list\n",
    "y = [labels[subject] for subject in recorded_eeg.keys()]"
   ]
  },
  {
   "cell_type": "code",
   "execution_count": 156,
   "metadata": {},
   "outputs": [
    {
     "data": {
      "text/plain": [
       "RandomForestClassifier()"
      ]
     },
     "execution_count": 156,
     "metadata": {},
     "output_type": "execute_result"
    }
   ],
   "source": [
    "# Train test split\n",
    "x_train, x_test, y_train, y_test = train_test_split(x, y, test_size=0.33, random_state=89)\n",
    "model = RandomForest()\n",
    "model.fit(x_train, y_train)"
   ]
  },
  {
   "cell_type": "code",
   "execution_count": 157,
   "metadata": {},
   "outputs": [],
   "source": [
    "y_pred = model.predict(x_test)"
   ]
  },
  {
   "cell_type": "code",
   "execution_count": 158,
   "metadata": {},
   "outputs": [
    {
     "name": "stdout",
     "output_type": "stream",
     "text": [
      "[1 0 1 1 1 0 1 0 1 1 1 1]\n",
      "[0, 1, 1, 1, 1, 0, 1, 0, 1, 1, 1, 0]\n"
     ]
    }
   ],
   "source": [
    "print(y_pred)\n",
    "print(y_test)"
   ]
  },
  {
   "cell_type": "code",
   "execution_count": 159,
   "metadata": {},
   "outputs": [
    {
     "name": "stdout",
     "output_type": "stream",
     "text": [
      "              precision    recall  f1-score   support\n",
      "\n",
      "           0       0.50      0.67      0.57         3\n",
      "           1       0.88      0.78      0.82         9\n",
      "\n",
      "    accuracy                           0.75        12\n",
      "   macro avg       0.69      0.72      0.70        12\n",
      "weighted avg       0.78      0.75      0.76        12\n",
      "\n"
     ]
    }
   ],
   "source": [
    "print(classification_report(y_pred, y_test))"
   ]
  },
  {
   "cell_type": "code",
   "execution_count": null,
   "metadata": {},
   "outputs": [],
   "source": []
  }
 ],
 "metadata": {
  "kernelspec": {
   "display_name": "Python 3",
   "language": "python",
   "name": "python3"
  },
  "language_info": {
   "codemirror_mode": {
    "name": "ipython",
    "version": 3
   },
   "file_extension": ".py",
   "mimetype": "text/x-python",
   "name": "python",
   "nbconvert_exporter": "python",
   "pygments_lexer": "ipython3",
   "version": "3.6.9"
  }
 },
 "nbformat": 4,
 "nbformat_minor": 2
}
