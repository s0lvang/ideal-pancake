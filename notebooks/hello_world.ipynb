{
 "cells": [
  {
   "cell_type": "code",
   "execution_count": 27,
   "metadata": {
    "tags": []
   },
   "outputs": [],
   "source": [
    "from pyedflib import highlevel\n",
    "import os\n",
    "from os import listdir\n",
    "from os.path import isfile, join\n",
    "from pandas import read_csv"
   ]
  },
  {
   "cell_type": "code",
   "execution_count": 22,
   "metadata": {},
   "outputs": [],
   "source": [
    "eeg_arithmetic_directory = \"../datasets/eeg-during-mental-arithmetic-tasks\""
   ]
  },
  {
   "cell_type": "code",
   "execution_count": 24,
   "metadata": {},
   "outputs": [],
   "source": [
    "# The dataset contains recordings of the students while they were idle and when they were actively solving arithmentic tasks\n",
    "edf_files_background_eeg = [f for f in listdir(eeg_arithmetic_directory) if isfile(join(eeg_arithmentic_directory, f)) and f.endswith(\"_1.edf\")]\n",
    "edf_files_recorded_eeg = [f for f in listdir(eeg_arithmetic_directory) if isfile(join(eeg_arithmentic_directory, f)) and f.endswith(\"_2.edf\")]\n",
    "#data is on format filename: signals, signal_headers, header\n",
    "background_eeg = {file: highlevel.read_edf(edf_file=join(eeg_arithmetic_directory, file)) for file in edf_files_background_eeg}\n",
    "recorded_eeg = {file: highlevel.read_edf(edf_file=join(eeg_arithmetic_directory, file)) for file in edf_files_recorded_eeg}"
   ]
  },
  {
   "cell_type": "code",
   "execution_count": 35,
   "metadata": {},
   "outputs": [],
   "source": [
    "subject_dataframe = read_csv(join(eeg_arithmetic_directory, \"subject-info.csv\"))\n",
    "labels = dict(zip(list(subject_dataframe[\"Subject\"]), list(subject_dataframe[\"Count quality\"])))"
   ]
  },
  {
   "cell_type": "code",
   "execution_count": 36,
   "metadata": {},
   "outputs": [
    {
     "name": "stdout",
     "output_type": "stream",
     "text": [
      "{'Subject00': 0, 'Subject01': 1, 'Subject02': 1, 'Subject03': 1, 'Subject04': 0, 'Subject05': 1, 'Subject06': 0, 'Subject07': 1, 'Subject08': 1, 'Subject09': 0, 'Subject10': 0, 'Subject11': 1, 'Subject12': 1, 'Subject13': 1, 'Subject14': 0, 'Subject15': 1, 'Subject16': 1, 'Subject17': 1, 'Subject18': 1, 'Subject19': 0, 'Subject20': 1, 'Subject21': 0, 'Subject22': 0, 'Subject23': 1, 'Subject24': 1, 'Subject25': 1, 'Subject26': 1, 'Subject27': 1, 'Subject28': 1, 'Subject29': 1, 'Subject30': 0, 'Subject31': 1, 'Subject32': 1, 'Subject33': 1, 'Subject34': 1, 'Subject35': 1}\n"
     ]
    }
   ],
   "source": []
  },
  {
   "cell_type": "code",
   "execution_count": null,
   "metadata": {},
   "outputs": [],
   "source": []
  }
 ],
 "metadata": {
  "kernelspec": {
   "display_name": "Python 3",
   "language": "python",
   "name": "python3"
  },
  "language_info": {
   "codemirror_mode": {
    "name": "ipython",
    "version": 3
   },
   "file_extension": ".py",
   "mimetype": "text/x-python",
   "name": "python",
   "nbconvert_exporter": "python",
   "pygments_lexer": "ipython3",
   "version": "3.6.9"
  }
 },
 "nbformat": 4,
 "nbformat_minor": 2
}
